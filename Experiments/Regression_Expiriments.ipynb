{
 "cells": [
  {
   "cell_type": "markdown",
   "metadata": {},
   "source": [
    "# *** THIS PROJECT IS A COLLABORATION BETWEEN BLESSING NWOGU, DIANA CASTILLO, GILA KOHANBASH, AND RACHEL FINLEY ***"
   ]
  },
  {
   "cell_type": "code",
   "execution_count": 2,
   "metadata": {
    "_cell_guid": "b1076dfc-b9ad-4769-8c92-a6c4dae69d19",
    "_uuid": "8f2839f25d086af736a60e9eeb907d3b93b6e0e5",
    "tags": []
   },
   "outputs": [],
   "source": [
    "import numpy as np \n",
    "import pandas as pd "
   ]
  },
  {
   "cell_type": "code",
   "execution_count": 3,
   "metadata": {
    "tags": []
   },
   "outputs": [],
   "source": [
    "from sklearn.ensemble import GradientBoostingRegressor\n",
    "from sklearn import ensemble"
   ]
  },
  {
   "cell_type": "code",
   "execution_count": 41,
   "metadata": {},
   "outputs": [],
   "source": [
    "import matplotlib.pyplot as plt"
   ]
  },
  {
   "cell_type": "code",
   "execution_count": 47,
   "metadata": {},
   "outputs": [],
   "source": [
    "train_df = pd.read_csv('checkpoint_train.csv', encoding = 'utf-8')\n",
    "test_df = pd.read_csv('checkpoint_test.csv', encoding = 'utf-8')"
   ]
  },
  {
   "cell_type": "code",
   "execution_count": 48,
   "metadata": {},
   "outputs": [
    {
     "data": {
      "text/html": [
       "<div>\n",
       "<style scoped>\n",
       "    .dataframe tbody tr th:only-of-type {\n",
       "        vertical-align: middle;\n",
       "    }\n",
       "\n",
       "    .dataframe tbody tr th {\n",
       "        vertical-align: top;\n",
       "    }\n",
       "\n",
       "    .dataframe thead th {\n",
       "        text-align: right;\n",
       "    }\n",
       "</style>\n",
       "<table border=\"1\" class=\"dataframe\">\n",
       "  <thead>\n",
       "    <tr style=\"text-align: right;\">\n",
       "      <th></th>\n",
       "      <th>userId</th>\n",
       "      <th>movieId</th>\n",
       "      <th>budget</th>\n",
       "      <th>overview</th>\n",
       "      <th>popularity</th>\n",
       "      <th>release_date</th>\n",
       "      <th>revenue</th>\n",
       "      <th>runtime</th>\n",
       "      <th>tagline</th>\n",
       "      <th>title</th>\n",
       "      <th>vote_average</th>\n",
       "      <th>vote_count</th>\n",
       "      <th>all_keywords</th>\n",
       "    </tr>\n",
       "  </thead>\n",
       "  <tbody>\n",
       "    <tr>\n",
       "      <th>0</th>\n",
       "      <td>469</td>\n",
       "      <td>2124</td>\n",
       "      <td>15652992.07</td>\n",
       "      <td>Uncle Fester has been missing for 25 years An ...</td>\n",
       "      <td>8.46</td>\n",
       "      <td>1991</td>\n",
       "      <td>31950070.07</td>\n",
       "      <td>99</td>\n",
       "      <td>Weird Is Relative</td>\n",
       "      <td>The Addams Family</td>\n",
       "      <td>6.7</td>\n",
       "      <td>109</td>\n",
       "      <td>dead wish vampire black humor uncle eccentric ...</td>\n",
       "    </tr>\n",
       "  </tbody>\n",
       "</table>\n",
       "</div>"
      ],
      "text/plain": [
       "   userId  movieId       budget  \\\n",
       "0     469     2124  15652992.07   \n",
       "\n",
       "                                            overview  popularity  \\\n",
       "0  Uncle Fester has been missing for 25 years An ...        8.46   \n",
       "\n",
       "   release_date      revenue  runtime            tagline              title  \\\n",
       "0          1991  31950070.07       99  Weird Is Relative  The Addams Family   \n",
       "\n",
       "   vote_average  vote_count                                       all_keywords  \n",
       "0           6.7         109  dead wish vampire black humor uncle eccentric ...  "
      ]
     },
     "execution_count": 48,
     "metadata": {},
     "output_type": "execute_result"
    }
   ],
   "source": [
    "test_df.head(1)"
   ]
  },
  {
   "cell_type": "code",
   "execution_count": 49,
   "metadata": {},
   "outputs": [],
   "source": [
    "text_columns = ['overview', 'tagline', 'title', 'all_keywords']\n",
    "train_df.drop(columns = text_columns, inplace = True)\n",
    "test_df.drop(columns = text_columns, inplace = True)"
   ]
  },
  {
   "cell_type": "code",
   "execution_count": 50,
   "metadata": {},
   "outputs": [],
   "source": [
    "## Not needed rn, but v useful code\n",
    "\n",
    "fill_mean = lambda col: col.fillna(col.mean())\n",
    "train_df = train_df.apply(fill_mean, axis = 0)\n",
    "train_df = train_df.apply(fill_mean, axis = 0)\n"
   ]
  },
  {
   "cell_type": "code",
   "execution_count": 51,
   "metadata": {},
   "outputs": [],
   "source": [
    "train_df.fillna(value = 0, inplace = True)\n",
    "test_df.fillna(value = 0, inplace = True)"
   ]
  },
  {
   "cell_type": "code",
   "execution_count": 52,
   "metadata": {
    "tags": []
   },
   "outputs": [
    {
     "data": {
      "text/plain": [
       "GradientBoostingRegressor(learning_rate=0.2, max_depth=4, min_samples_split=15,\n",
       "                          n_estimators=960, random_state=150, subsample=0.75)"
      ]
     },
     "execution_count": 52,
     "metadata": {},
     "output_type": "execute_result"
    }
   ],
   "source": [
    "y_train = train_df['rating']\n",
    "X_train = train_df.drop(labels = 'rating', axis = 1)\n",
    "\n",
    "X_test = test_df\n",
    "\n",
    "parameters = {\n",
    "    \"n_estimators\": 960,\n",
    "    \"max_depth\": 4,\n",
    "    \"min_samples_split\": 15,\n",
    "    \"random_state\": 150,\n",
    "    'subsample': 0.75,\n",
    "    \"learning_rate\": 0.2,\n",
    "    \"loss\": \"squared_error\"\n",
    "\n",
    "}\n",
    "GB_regressor = ensemble.GradientBoostingRegressor(**parameters)\n",
    "GB_regressor.fit(X_train, y_train)"
   ]
  },
  {
   "cell_type": "code",
   "execution_count": 53,
   "metadata": {
    "tags": []
   },
   "outputs": [],
   "source": [
    "test_df['rating'] = (GB_regressor.predict(X_test))\n",
    "test_df['movieId'] = test_df['movieId'].astype(int).astype(str)\n",
    "test_df['userId'] = test_df['userId'].astype(int).astype(str)\n",
    "test_df['userId_movieId'] = test_df['userId'] + '_' + test_df['movieId']\n",
    "cols = ['userId_movieId', 'rating']\n",
    "test_df = test_df[cols]"
   ]
  },
  {
   "cell_type": "code",
   "execution_count": 54,
   "metadata": {},
   "outputs": [],
   "source": [
    "test_df.to_csv('submission.csv', index = False)"
   ]
  },
  {
   "cell_type": "markdown",
   "metadata": {},
   "source": [
    "Best Model RSME Score: 0.1735"
   ]
  },
  {
   "cell_type": "markdown",
   "metadata": {},
   "source": [
    "#### Check Feature importance"
   ]
  },
  {
   "cell_type": "code",
   "execution_count": 55,
   "metadata": {},
   "outputs": [
    {
     "data": {
      "image/png": "[encoded data removed]",
      "text/plain": [
       "<Figure size 1000x800 with 1 Axes>"
      ]
     },
     "metadata": {},
     "output_type": "display_data"
    }
   ],
   "source": [
    "# Get feature importances and corresponding feature names\n",
    "feature_importances = GB_regressor.feature_importances_\n",
    "\n",
    "feature_names = list(train_df.drop(columns = 'rating' ).columns)\n",
    "\n",
    "# Sort the features by importance\n",
    "sorted_indices = feature_importances.argsort()[::-1]\n",
    "sorted_importances = feature_importances[sorted_indices]\n",
    "sorted_features = [feature_names[i] for i in sorted_indices]\n",
    "\n",
    "# Plot the feature importances as a horizontal bar chart\n",
    "plt.figure(figsize = (10, 8))\n",
    "plt.barh(y = sorted_features, width = sorted_importances)\n",
    "plt.xlabel('Importance')\n",
    "plt.title('Feature Importance')\n",
    "plt.show()"
   ]
  },
  {
   "cell_type": "markdown",
   "metadata": {
    "tags": []
   },
   "source": [
    "## Other Models"
   ]
  },
  {
   "cell_type": "markdown",
   "metadata": {},
   "source": [
    "### RF Regressor"
   ]
  },
  {
   "cell_type": "code",
   "execution_count": 13,
   "metadata": {},
   "outputs": [],
   "source": [
    "from sklearn.ensemble import RandomForestRegressor\n",
    "from sklearn.model_selection import GridSearchCV"
   ]
  },
  {
   "cell_type": "code",
   "execution_count": 14,
   "metadata": {},
   "outputs": [],
   "source": [
    "train_df = pd.read_csv('checkpoint_train.csv', encoding = 'utf-8')\n",
    "test_df = pd.read_csv('checkpoint_test.csv', encoding = 'utf-8')"
   ]
  },
  {
   "cell_type": "code",
   "execution_count": 15,
   "metadata": {},
   "outputs": [],
   "source": [
    "text_columns = ['overview', 'tagline', 'title', 'all_keywords', 'part_of_collection']\n",
    "train_df.drop(columns = text_columns, inplace = True)\n",
    "test_df.drop(columns = text_columns, inplace = True)"
   ]
  },
  {
   "cell_type": "code",
   "execution_count": 16,
   "metadata": {},
   "outputs": [],
   "source": [
    "train_df.fillna(value = 0, inplace = True)\n",
    "test_df.fillna(value = 0, inplace = True)"
   ]
  },
  {
   "cell_type": "code",
   "execution_count": 17,
   "metadata": {},
   "outputs": [],
   "source": [
    "y_train = train_df['rating']\n",
    "X_train = train_df.drop(labels = 'rating', axis = 1)\n",
    "\n",
    "X_test = test_df"
   ]
  },
  {
   "cell_type": "code",
   "execution_count": 24,
   "metadata": {},
   "outputs": [],
   "source": [
    "rf_parameters = {\n",
    "    'random_state': 150,\n",
    "    'n_estimators': 500,\n",
    "    'max_depth': 10\n",
    "}"
   ]
  },
  {
   "cell_type": "code",
   "execution_count": 25,
   "metadata": {},
   "outputs": [
    {
     "data": {
      "text/plain": [
       "RandomForestRegressor(max_depth=10, n_estimators=500, random_state=150)"
      ]
     },
     "execution_count": 25,
     "metadata": {},
     "output_type": "execute_result"
    }
   ],
   "source": [
    "RF_regressor = RandomForestRegressor(**rf_parameters)\n",
    "RF_regressor.fit(X_train, y_train)"
   ]
  },
  {
   "cell_type": "code",
   "execution_count": 26,
   "metadata": {},
   "outputs": [],
   "source": [
    "test_df['rating'] = (RF_regressor.predict(X_test))\n",
    "test_df['movieId'] = test_df['movieId'].astype(int).astype(str)\n",
    "test_df['userId'] = test_df['userId'].astype(int).astype(str)\n",
    "test_df['userId_movieId'] = test_df['userId'] + '_' + test_df['movieId']\n",
    "cols = ['userId_movieId', 'rating']\n",
    "test_df = test_df[cols]"
   ]
  },
  {
   "cell_type": "code",
   "execution_count": 27,
   "metadata": {},
   "outputs": [],
   "source": [
    "test_df.to_csv('submission.csv', index = False)"
   ]
  },
  {
   "cell_type": "markdown",
   "metadata": {},
   "source": [
    "Model RSME Score: 0.1888"
   ]
  },
  {
   "cell_type": "markdown",
   "metadata": {},
   "source": [
    "### TFIDF -> Truncated SVD -> Ridge Regression"
   ]
  },
  {
   "cell_type": "code",
   "execution_count": 74,
   "metadata": {},
   "outputs": [],
   "source": [
    "from sklearn.decomposition import TruncatedSVD\n",
    "from sklearn.feature_extraction.text import TfidfVectorizer\n",
    "from sklearn.linear_model import Ridge"
   ]
  },
  {
   "cell_type": "code",
   "execution_count": 78,
   "metadata": {},
   "outputs": [],
   "source": [
    "train_df = pd.read_csv('checkpoint_train.csv', encoding = 'utf-8')\n",
    "test_df = pd.read_csv('checkpoint_test.csv', encoding = 'utf-8')"
   ]
  },
  {
   "cell_type": "code",
   "execution_count": 66,
   "metadata": {},
   "outputs": [],
   "source": [
    "text_columns = ['overview', 'tagline', 'title', 'all_keywords', 'part_of_collection']\n",
    "numerical_columns = ['userId', 'movieId', 'release_date', 'budget', 'popularity', 'revenue', \n",
    "                     'runtime', 'vote_average', 'vote_count', 'old', \n",
    "                     'Science Fiction', 'Crime', 'Thriller', 'Drama', \n",
    "                     'Horror', 'Romance', 'TV Movie', 'Action', \n",
    "                     'Adventure', 'War', 'Documentary', 'Family', \n",
    "                     'Fantasy', 'Music', 'Animation', 'Mystery', \n",
    "                     'Comedy', 'Western', 'Foreign', 'History']"
   ]
  },
  {
   "cell_type": "code",
   "execution_count": 67,
   "metadata": {},
   "outputs": [],
   "source": [
    "train_df.drop(columns = numerical_columns, inplace = True)\n",
    "test_df.drop(columns = numerical_columns, inplace = True)"
   ]
  },
  {
   "cell_type": "code",
   "execution_count": 68,
   "metadata": {},
   "outputs": [],
   "source": [
    "train_df = train_df.fillna('').astype(str)\n",
    "test_df = test_df.fillna('').astype(str)"
   ]
  },
  {
   "cell_type": "code",
   "execution_count": 69,
   "metadata": {},
   "outputs": [],
   "source": [
    "train_df['corpus'] = train_df['overview'] + \"_\" + train_df['tagline'] + \"_\" + train_df['title'] + \"_\" + train_df['all_keywords'] + \"_\" + train_df['part_of_collection']\n",
    "test_df['corpus'] = test_df['overview'] + \"_\" + test_df['tagline'] + \"_\" + test_df['title'] + \"_\" + test_df['all_keywords'] + \"_\" + test_df['part_of_collection']"
   ]
  },
  {
   "cell_type": "code",
   "execution_count": 70,
   "metadata": {},
   "outputs": [],
   "source": [
    "# train_df['corpus'] = train_df['corpus'].fillna('').astype(str)\n",
    "# test_df['corpus'] = test_df['corpus'].fillna('').astype(str)"
   ]
  },
  {
   "cell_type": "code",
   "execution_count": 71,
   "metadata": {},
   "outputs": [],
   "source": [
    "vectorizer = TfidfVectorizer()\n",
    "vectorizer.fit(train_df['corpus'])\n",
    "train_tfidf_matrix = vectorizer.transform(train_df['corpus'])\n",
    "test_tfidf_matrix = vectorizer.transform(test_df['corpus'])"
   ]
  },
  {
   "cell_type": "code",
   "execution_count": 72,
   "metadata": {},
   "outputs": [],
   "source": [
    "svd_model = TruncatedSVD(n_components = 2)\n",
    "svd_matrix_train = svd_model.fit_transform(train_tfidf_matrix)\n",
    "svd_matrix_test = svd_model.fit_transform(test_tfidf_matrix)"
   ]
  },
  {
   "cell_type": "code",
   "execution_count": 76,
   "metadata": {},
   "outputs": [
    {
     "data": {
      "text/plain": [
       "Ridge()"
      ]
     },
     "execution_count": 76,
     "metadata": {},
     "output_type": "execute_result"
    }
   ],
   "source": [
    "ridge_model = Ridge(alpha = 1.0)\n",
    "ridge_model.fit(svd_matrix_train, train_df['rating'])"
   ]
  },
  {
   "cell_type": "code",
   "execution_count": 79,
   "metadata": {},
   "outputs": [],
   "source": [
    "test_df['rating'] = (ridge_model.predict(svd_matrix_test))\n",
    "test_df['movieId'] = test_df['movieId'].astype(int).astype(str)\n",
    "test_df['userId'] = test_df['userId'].astype(int).astype(str)\n",
    "test_df['userId_movieId'] = test_df['userId'] + '_' + test_df['movieId']\n",
    "cols = ['userId_movieId', 'rating']\n",
    "test_df = test_df[cols]"
   ]
  },
  {
   "cell_type": "code",
   "execution_count": 80,
   "metadata": {},
   "outputs": [],
   "source": [
    "test_df.to_csv('submission.csv', index = False)"
   ]
  },
  {
   "cell_type": "markdown",
   "metadata": {},
   "source": [
    "Model RSME Score: 0.2141"
   ]
  },
  {
   "cell_type": "markdown",
   "metadata": {},
   "source": [
    "### (TFIDF -> Truncated SVD) + Numerical Data -> GB Regressor"
   ]
  },
  {
   "cell_type": "code",
   "execution_count": 4,
   "metadata": {
    "_cell_guid": "b1076dfc-b9ad-4769-8c92-a6c4dae69d19",
    "_uuid": "8f2839f25d086af736a60e9eeb907d3b93b6e0e5",
    "tags": []
   },
   "outputs": [],
   "source": [
    "import numpy as np \n",
    "import pandas as pd "
   ]
  },
  {
   "cell_type": "code",
   "execution_count": 2,
   "metadata": {
    "tags": []
   },
   "outputs": [],
   "source": [
    "from sklearn.ensemble import GradientBoostingRegressor\n",
    "from sklearn import ensemble"
   ]
  },
  {
   "cell_type": "code",
   "execution_count": 103,
   "metadata": {},
   "outputs": [],
   "source": [
    "train_df = pd.read_csv('checkpoint_train.csv', encoding = 'utf-8')\n",
    "test_df = pd.read_csv('checkpoint_test.csv', encoding = 'utf-8')"
   ]
  },
  {
   "cell_type": "code",
   "execution_count": 104,
   "metadata": {},
   "outputs": [],
   "source": [
    "text_columns = ['overview', 'tagline', 'title', 'all_keywords', 'part_of_collection']\n",
    "train_num = train_df.drop(columns = text_columns)\n",
    "test_num = test_df.drop(columns = text_columns)"
   ]
  },
  {
   "cell_type": "code",
   "execution_count": 105,
   "metadata": {},
   "outputs": [],
   "source": [
    "train_num.fillna(value = 0, inplace = True)\n",
    "test_num.fillna(value = 0, inplace = True)"
   ]
  },
  {
   "cell_type": "code",
   "execution_count": 106,
   "metadata": {},
   "outputs": [],
   "source": [
    "train_txt = train_df.drop(columns = numerical_columns)\n",
    "test_txt = test_df.drop(columns = numerical_columns)"
   ]
  },
  {
   "cell_type": "code",
   "execution_count": 107,
   "metadata": {},
   "outputs": [],
   "source": [
    "train_txt = train_txt.fillna('').astype(str)\n",
    "test_txt = test_txt.fillna('').astype(str)"
   ]
  },
  {
   "cell_type": "code",
   "execution_count": 108,
   "metadata": {},
   "outputs": [],
   "source": [
    "train_txt['corpus'] = train_txt['overview'] + \"_\" + train_txt['tagline'] + \"_\" + train_txt['title'] + \"_\" + train_txt['all_keywords'] + \"_\" + train_txt['part_of_collection']\n",
    "test_txt['corpus'] = test_txt['overview'] + \"_\" + test_txt['tagline'] + \"_\" + test_txt['title'] + \"_\" + test_txt['all_keywords'] + \"_\" + test_txt['part_of_collection']"
   ]
  },
  {
   "cell_type": "code",
   "execution_count": 94,
   "metadata": {},
   "outputs": [],
   "source": [
    "vectorizer = TfidfVectorizer()\n",
    "vectorizer.fit(train_txt['corpus'])\n",
    "train_tfidf_matrix = vectorizer.transform(train_txt['corpus'])\n",
    "test_tfidf_matrix = vectorizer.transform(test_txt['corpus'])"
   ]
  },
  {
   "cell_type": "code",
   "execution_count": 95,
   "metadata": {},
   "outputs": [],
   "source": [
    "svd_model = TruncatedSVD(n_components = 7)\n",
    "svd_matrix_train = svd_model.fit_transform(train_tfidf_matrix)\n",
    "svd_matrix_test = svd_model.fit_transform(test_tfidf_matrix)"
   ]
  },
  {
   "cell_type": "code",
   "execution_count": 100,
   "metadata": {},
   "outputs": [
    {
     "data": {
      "text/plain": [
       "numpy.ndarray"
      ]
     },
     "execution_count": 100,
     "metadata": {},
     "output_type": "execute_result"
    }
   ],
   "source": [
    "type(svd_matrix_test)"
   ]
  },
  {
   "cell_type": "code",
   "execution_count": 112,
   "metadata": {},
   "outputs": [],
   "source": [
    "train_df = pd.merge(train_num, pd.DataFrame(svd_matrix_train), left_index=True, right_index=True)\n",
    "test_df = pd.merge(test_num, pd.DataFrame(svd_matrix_test), left_index=True, right_index=True)"
   ]
  },
  {
   "cell_type": "code",
   "execution_count": 114,
   "metadata": {},
   "outputs": [
    {
     "data": {
      "text/html": [
       "<div>\n",
       "<style scoped>\n",
       "    .dataframe tbody tr th:only-of-type {\n",
       "        vertical-align: middle;\n",
       "    }\n",
       "\n",
       "    .dataframe tbody tr th {\n",
       "        vertical-align: top;\n",
       "    }\n",
       "\n",
       "    .dataframe thead th {\n",
       "        text-align: right;\n",
       "    }\n",
       "</style>\n",
       "<table border=\"1\" class=\"dataframe\">\n",
       "  <thead>\n",
       "    <tr style=\"text-align: right;\">\n",
       "      <th></th>\n",
       "      <th>rating</th>\n",
       "      <th>userId</th>\n",
       "      <th>movieId</th>\n",
       "      <th>budget</th>\n",
       "      <th>popularity</th>\n",
       "      <th>release_date</th>\n",
       "      <th>revenue</th>\n",
       "      <th>runtime</th>\n",
       "      <th>vote_average</th>\n",
       "      <th>vote_count</th>\n",
       "      <th>...</th>\n",
       "      <th>Family</th>\n",
       "      <th>Comedy</th>\n",
       "      <th>Horror</th>\n",
       "      <th>War</th>\n",
       "      <th>Foreign</th>\n",
       "      <th>Animation</th>\n",
       "      <th>Action</th>\n",
       "      <th>Adventure</th>\n",
       "      <th>0</th>\n",
       "      <th>1</th>\n",
       "    </tr>\n",
       "  </thead>\n",
       "  <tbody>\n",
       "    <tr>\n",
       "      <th>0</th>\n",
       "      <td>0.4</td>\n",
       "      <td>10.0</td>\n",
       "      <td>1358.0</td>\n",
       "      <td>1.000000e+06</td>\n",
       "      <td>8.457968</td>\n",
       "      <td>1996.0</td>\n",
       "      <td>2.444412e+07</td>\n",
       "      <td>135.0</td>\n",
       "      <td>7.4</td>\n",
       "      <td>109.0</td>\n",
       "      <td>...</td>\n",
       "      <td>0</td>\n",
       "      <td>0</td>\n",
       "      <td>0</td>\n",
       "      <td>0</td>\n",
       "      <td>0</td>\n",
       "      <td>0</td>\n",
       "      <td>0</td>\n",
       "      <td>0</td>\n",
       "      <td>0.191172</td>\n",
       "      <td>-0.024328</td>\n",
       "    </tr>\n",
       "    <tr>\n",
       "      <th>1</th>\n",
       "      <td>0.7</td>\n",
       "      <td>237.0</td>\n",
       "      <td>1544.0</td>\n",
       "      <td>1.565299e+07</td>\n",
       "      <td>0.788123</td>\n",
       "      <td>1997.0</td>\n",
       "      <td>3.195007e+07</td>\n",
       "      <td>129.0</td>\n",
       "      <td>6.2</td>\n",
       "      <td>109.0</td>\n",
       "      <td>...</td>\n",
       "      <td>0</td>\n",
       "      <td>0</td>\n",
       "      <td>0</td>\n",
       "      <td>0</td>\n",
       "      <td>0</td>\n",
       "      <td>0</td>\n",
       "      <td>0</td>\n",
       "      <td>0</td>\n",
       "      <td>0.085781</td>\n",
       "      <td>0.002381</td>\n",
       "    </tr>\n",
       "    <tr>\n",
       "      <th>2</th>\n",
       "      <td>1.0</td>\n",
       "      <td>54.0</td>\n",
       "      <td>373.0</td>\n",
       "      <td>8.000000e+06</td>\n",
       "      <td>5.137903</td>\n",
       "      <td>1993.0</td>\n",
       "      <td>2.000000e+06</td>\n",
       "      <td>98.0</td>\n",
       "      <td>6.4</td>\n",
       "      <td>71.0</td>\n",
       "      <td>...</td>\n",
       "      <td>0</td>\n",
       "      <td>0</td>\n",
       "      <td>0</td>\n",
       "      <td>0</td>\n",
       "      <td>0</td>\n",
       "      <td>0</td>\n",
       "      <td>0</td>\n",
       "      <td>0</td>\n",
       "      <td>0.196126</td>\n",
       "      <td>-0.044103</td>\n",
       "    </tr>\n",
       "    <tr>\n",
       "      <th>3</th>\n",
       "      <td>0.8</td>\n",
       "      <td>11.0</td>\n",
       "      <td>2053.0</td>\n",
       "      <td>1.565299e+07</td>\n",
       "      <td>8.457968</td>\n",
       "      <td>1992.0</td>\n",
       "      <td>3.195007e+07</td>\n",
       "      <td>89.0</td>\n",
       "      <td>4.8</td>\n",
       "      <td>109.0</td>\n",
       "      <td>...</td>\n",
       "      <td>0</td>\n",
       "      <td>1</td>\n",
       "      <td>0</td>\n",
       "      <td>0</td>\n",
       "      <td>0</td>\n",
       "      <td>0</td>\n",
       "      <td>0</td>\n",
       "      <td>0</td>\n",
       "      <td>0.213956</td>\n",
       "      <td>-0.048535</td>\n",
       "    </tr>\n",
       "    <tr>\n",
       "      <th>4</th>\n",
       "      <td>0.6</td>\n",
       "      <td>183.0</td>\n",
       "      <td>2524.0</td>\n",
       "      <td>1.400000e+07</td>\n",
       "      <td>7.469056</td>\n",
       "      <td>1974.0</td>\n",
       "      <td>3.195007e+07</td>\n",
       "      <td>137.0</td>\n",
       "      <td>7.1</td>\n",
       "      <td>109.0</td>\n",
       "      <td>...</td>\n",
       "      <td>0</td>\n",
       "      <td>0</td>\n",
       "      <td>0</td>\n",
       "      <td>0</td>\n",
       "      <td>0</td>\n",
       "      <td>0</td>\n",
       "      <td>0</td>\n",
       "      <td>0</td>\n",
       "      <td>0.126701</td>\n",
       "      <td>0.017401</td>\n",
       "    </tr>\n",
       "  </tbody>\n",
       "</table>\n",
       "<p>5 rows × 33 columns</p>\n",
       "</div>"
      ],
      "text/plain": [
       "   rating  userId  movieId        budget  popularity  release_date  \\\n",
       "0     0.4    10.0   1358.0  1.000000e+06    8.457968        1996.0   \n",
       "1     0.7   237.0   1544.0  1.565299e+07    0.788123        1997.0   \n",
       "2     1.0    54.0    373.0  8.000000e+06    5.137903        1993.0   \n",
       "3     0.8    11.0   2053.0  1.565299e+07    8.457968        1992.0   \n",
       "4     0.6   183.0   2524.0  1.400000e+07    7.469056        1974.0   \n",
       "\n",
       "        revenue  runtime  vote_average  vote_count  ...  Family  Comedy  \\\n",
       "0  2.444412e+07    135.0           7.4       109.0  ...       0       0   \n",
       "1  3.195007e+07    129.0           6.2       109.0  ...       0       0   \n",
       "2  2.000000e+06     98.0           6.4        71.0  ...       0       0   \n",
       "3  3.195007e+07     89.0           4.8       109.0  ...       0       1   \n",
       "4  3.195007e+07    137.0           7.1       109.0  ...       0       0   \n",
       "\n",
       "   Horror  War  Foreign  Animation  Action  Adventure         0         1  \n",
       "0       0    0        0          0       0          0  0.191172 -0.024328  \n",
       "1       0    0        0          0       0          0  0.085781  0.002381  \n",
       "2       0    0        0          0       0          0  0.196126 -0.044103  \n",
       "3       0    0        0          0       0          0  0.213956 -0.048535  \n",
       "4       0    0        0          0       0          0  0.126701  0.017401  \n",
       "\n",
       "[5 rows x 33 columns]"
      ]
     },
     "execution_count": 114,
     "metadata": {},
     "output_type": "execute_result"
    }
   ],
   "source": [
    "train_df.head()"
   ]
  },
  {
   "cell_type": "code",
   "execution_count": 118,
   "metadata": {
    "tags": []
   },
   "outputs": [
    {
     "name": "stderr",
     "output_type": "stream",
     "text": [
      "C:\\Users\\rache\\anaconda3\\lib\\site-packages\\sklearn\\utils\\validation.py:1688: FutureWarning: Feature names only support names that are all strings. Got feature names with dtypes: ['int', 'str']. An error will be raised in 1.2.\n",
      "  warnings.warn(\n"
     ]
    },
    {
     "data": {
      "text/plain": [
       "GradientBoostingRegressor(learning_rate=0.2, max_depth=4, min_samples_split=15,\n",
       "                          n_estimators=960, random_state=150, subsample=0.75)"
      ]
     },
     "execution_count": 118,
     "metadata": {},
     "output_type": "execute_result"
    }
   ],
   "source": [
    "y_train = train_df['rating']\n",
    "X_train = train_df.drop(labels = 'rating', axis = 1)\n",
    "\n",
    "X_test = test_df\n",
    "\n",
    "parameters = {\n",
    "    \"n_estimators\": 960,\n",
    "    \"max_depth\": 4,\n",
    "    \"min_samples_split\": 15,\n",
    "    \"random_state\": 150,\n",
    "    'subsample': 0.75,\n",
    "    \"learning_rate\": 0.2,\n",
    "    \"loss\": \"squared_error\"\n",
    "\n",
    "}\n",
    "GB_regressor = GradientBoostingRegressor(**parameters)\n",
    "GB_regressor.fit(X_train, y_train)"
   ]
  },
  {
   "cell_type": "code",
   "execution_count": 119,
   "metadata": {
    "tags": []
   },
   "outputs": [
    {
     "name": "stderr",
     "output_type": "stream",
     "text": [
      "C:\\Users\\rache\\anaconda3\\lib\\site-packages\\sklearn\\utils\\validation.py:1688: FutureWarning: Feature names only support names that are all strings. Got feature names with dtypes: ['int', 'str']. An error will be raised in 1.2.\n",
      "  warnings.warn(\n"
     ]
    }
   ],
   "source": [
    "test_df['rating'] = (GB_regressor.predict(X_test))\n",
    "test_df['movieId'] = test_df['movieId'].astype(int).astype(str)\n",
    "test_df['userId'] = test_df['userId'].astype(int).astype(str)\n",
    "test_df['userId_movieId'] = test_df['userId'] + '_' + test_df['movieId']\n",
    "cols = ['userId_movieId', 'rating']\n",
    "test_df = test_df[cols]"
   ]
  },
  {
   "cell_type": "code",
   "execution_count": 120,
   "metadata": {},
   "outputs": [],
   "source": [
    "test_df.to_csv('submission.csv', index = False)"
   ]
  },
  {
   "cell_type": "markdown",
   "metadata": {},
   "source": [
    "Model RSME Score: 0.1758"
   ]
  },
  {
   "cell_type": "code",
   "execution_count": null,
   "metadata": {},
   "outputs": [],
   "source": []
  },
  {
   "cell_type": "markdown",
   "metadata": {},
   "source": [
    "### (TFIDF -> Truncated SVD) + Numerical Data -> RF Regressor"
   ]
  },
  {
   "cell_type": "code",
   "execution_count": 4,
   "metadata": {
    "_cell_guid": "b1076dfc-b9ad-4769-8c92-a6c4dae69d19",
    "_uuid": "8f2839f25d086af736a60e9eeb907d3b93b6e0e5",
    "tags": []
   },
   "outputs": [],
   "source": [
    "import numpy as np \n",
    "import pandas as pd "
   ]
  },
  {
   "cell_type": "code",
   "execution_count": 2,
   "metadata": {
    "tags": []
   },
   "outputs": [],
   "source": [
    "from sklearn.ensemble import GradientBoostingRegressor\n",
    "from sklearn import ensemble"
   ]
  },
  {
   "cell_type": "code",
   "execution_count": 103,
   "metadata": {},
   "outputs": [],
   "source": [
    "train_df = pd.read_csv('checkpoint_train.csv', encoding = 'utf-8')\n",
    "test_df = pd.read_csv('checkpoint_test.csv', encoding = 'utf-8')"
   ]
  },
  {
   "cell_type": "code",
   "execution_count": 104,
   "metadata": {},
   "outputs": [],
   "source": [
    "text_columns = ['overview', 'tagline', 'title', 'all_keywords', 'part_of_collection']\n",
    "train_num = train_df.drop(columns = text_columns)\n",
    "test_num = test_df.drop(columns = text_columns)"
   ]
  },
  {
   "cell_type": "code",
   "execution_count": 105,
   "metadata": {},
   "outputs": [],
   "source": [
    "train_num.fillna(value = 0, inplace = True)\n",
    "test_num.fillna(value = 0, inplace = True)"
   ]
  },
  {
   "cell_type": "code",
   "execution_count": 106,
   "metadata": {},
   "outputs": [],
   "source": [
    "train_txt = train_df.drop(columns = numerical_columns)\n",
    "test_txt = test_df.drop(columns = numerical_columns)"
   ]
  },
  {
   "cell_type": "code",
   "execution_count": 107,
   "metadata": {},
   "outputs": [],
   "source": [
    "train_txt = train_txt.fillna('').astype(str)\n",
    "test_txt = test_txt.fillna('').astype(str)"
   ]
  },
  {
   "cell_type": "code",
   "execution_count": 108,
   "metadata": {},
   "outputs": [],
   "source": [
    "train_txt['corpus'] = train_txt['overview'] + \"_\" + train_txt['tagline'] + \"_\" + train_txt['title'] + \"_\" + train_txt['all_keywords'] + \"_\" + train_txt['part_of_collection']\n",
    "test_txt['corpus'] = test_txt['overview'] + \"_\" + test_txt['tagline'] + \"_\" + test_txt['title'] + \"_\" + test_txt['all_keywords'] + \"_\" + test_txt['part_of_collection']"
   ]
  },
  {
   "cell_type": "code",
   "execution_count": 94,
   "metadata": {},
   "outputs": [],
   "source": [
    "vectorizer = TfidfVectorizer()\n",
    "vectorizer.fit(train_txt['corpus'])\n",
    "train_tfidf_matrix = vectorizer.transform(train_txt['corpus'])\n",
    "test_tfidf_matrix = vectorizer.transform(test_txt['corpus'])"
   ]
  },
  {
   "cell_type": "code",
   "execution_count": 95,
   "metadata": {},
   "outputs": [],
   "source": [
    "svd_model = TruncatedSVD(n_components=2)\n",
    "svd_matrix_train = svd_model.fit_transform(train_tfidf_matrix)\n",
    "svd_matrix_test = svd_model.fit_transform(test_tfidf_matrix)"
   ]
  },
  {
   "cell_type": "code",
   "execution_count": 100,
   "metadata": {},
   "outputs": [
    {
     "data": {
      "text/plain": [
       "numpy.ndarray"
      ]
     },
     "execution_count": 100,
     "metadata": {},
     "output_type": "execute_result"
    }
   ],
   "source": [
    "type(svd_matrix_test)"
   ]
  },
  {
   "cell_type": "code",
   "execution_count": 112,
   "metadata": {},
   "outputs": [],
   "source": [
    "train_df = pd.merge(train_num, pd.DataFrame(svd_matrix_train), left_index=True, right_index=True)\n",
    "test_df = pd.merge(test_num, pd.DataFrame(svd_matrix_test), left_index=True, right_index=True)"
   ]
  },
  {
   "cell_type": "code",
   "execution_count": 114,
   "metadata": {},
   "outputs": [
    {
     "data": {
      "text/html": [
       "<div>\n",
       "<style scoped>\n",
       "    .dataframe tbody tr th:only-of-type {\n",
       "        vertical-align: middle;\n",
       "    }\n",
       "\n",
       "    .dataframe tbody tr th {\n",
       "        vertical-align: top;\n",
       "    }\n",
       "\n",
       "    .dataframe thead th {\n",
       "        text-align: right;\n",
       "    }\n",
       "</style>\n",
       "<table border=\"1\" class=\"dataframe\">\n",
       "  <thead>\n",
       "    <tr style=\"text-align: right;\">\n",
       "      <th></th>\n",
       "      <th>rating</th>\n",
       "      <th>userId</th>\n",
       "      <th>movieId</th>\n",
       "      <th>budget</th>\n",
       "      <th>popularity</th>\n",
       "      <th>release_date</th>\n",
       "      <th>revenue</th>\n",
       "      <th>runtime</th>\n",
       "      <th>vote_average</th>\n",
       "      <th>vote_count</th>\n",
       "      <th>...</th>\n",
       "      <th>Family</th>\n",
       "      <th>Comedy</th>\n",
       "      <th>Horror</th>\n",
       "      <th>War</th>\n",
       "      <th>Foreign</th>\n",
       "      <th>Animation</th>\n",
       "      <th>Action</th>\n",
       "      <th>Adventure</th>\n",
       "      <th>0</th>\n",
       "      <th>1</th>\n",
       "    </tr>\n",
       "  </thead>\n",
       "  <tbody>\n",
       "    <tr>\n",
       "      <th>0</th>\n",
       "      <td>0.4</td>\n",
       "      <td>10.0</td>\n",
       "      <td>1358.0</td>\n",
       "      <td>1.000000e+06</td>\n",
       "      <td>8.457968</td>\n",
       "      <td>1996.0</td>\n",
       "      <td>2.444412e+07</td>\n",
       "      <td>135.0</td>\n",
       "      <td>7.4</td>\n",
       "      <td>109.0</td>\n",
       "      <td>...</td>\n",
       "      <td>0</td>\n",
       "      <td>0</td>\n",
       "      <td>0</td>\n",
       "      <td>0</td>\n",
       "      <td>0</td>\n",
       "      <td>0</td>\n",
       "      <td>0</td>\n",
       "      <td>0</td>\n",
       "      <td>0.191172</td>\n",
       "      <td>-0.024328</td>\n",
       "    </tr>\n",
       "    <tr>\n",
       "      <th>1</th>\n",
       "      <td>0.7</td>\n",
       "      <td>237.0</td>\n",
       "      <td>1544.0</td>\n",
       "      <td>1.565299e+07</td>\n",
       "      <td>0.788123</td>\n",
       "      <td>1997.0</td>\n",
       "      <td>3.195007e+07</td>\n",
       "      <td>129.0</td>\n",
       "      <td>6.2</td>\n",
       "      <td>109.0</td>\n",
       "      <td>...</td>\n",
       "      <td>0</td>\n",
       "      <td>0</td>\n",
       "      <td>0</td>\n",
       "      <td>0</td>\n",
       "      <td>0</td>\n",
       "      <td>0</td>\n",
       "      <td>0</td>\n",
       "      <td>0</td>\n",
       "      <td>0.085781</td>\n",
       "      <td>0.002381</td>\n",
       "    </tr>\n",
       "    <tr>\n",
       "      <th>2</th>\n",
       "      <td>1.0</td>\n",
       "      <td>54.0</td>\n",
       "      <td>373.0</td>\n",
       "      <td>8.000000e+06</td>\n",
       "      <td>5.137903</td>\n",
       "      <td>1993.0</td>\n",
       "      <td>2.000000e+06</td>\n",
       "      <td>98.0</td>\n",
       "      <td>6.4</td>\n",
       "      <td>71.0</td>\n",
       "      <td>...</td>\n",
       "      <td>0</td>\n",
       "      <td>0</td>\n",
       "      <td>0</td>\n",
       "      <td>0</td>\n",
       "      <td>0</td>\n",
       "      <td>0</td>\n",
       "      <td>0</td>\n",
       "      <td>0</td>\n",
       "      <td>0.196126</td>\n",
       "      <td>-0.044103</td>\n",
       "    </tr>\n",
       "    <tr>\n",
       "      <th>3</th>\n",
       "      <td>0.8</td>\n",
       "      <td>11.0</td>\n",
       "      <td>2053.0</td>\n",
       "      <td>1.565299e+07</td>\n",
       "      <td>8.457968</td>\n",
       "      <td>1992.0</td>\n",
       "      <td>3.195007e+07</td>\n",
       "      <td>89.0</td>\n",
       "      <td>4.8</td>\n",
       "      <td>109.0</td>\n",
       "      <td>...</td>\n",
       "      <td>0</td>\n",
       "      <td>1</td>\n",
       "      <td>0</td>\n",
       "      <td>0</td>\n",
       "      <td>0</td>\n",
       "      <td>0</td>\n",
       "      <td>0</td>\n",
       "      <td>0</td>\n",
       "      <td>0.213956</td>\n",
       "      <td>-0.048535</td>\n",
       "    </tr>\n",
       "    <tr>\n",
       "      <th>4</th>\n",
       "      <td>0.6</td>\n",
       "      <td>183.0</td>\n",
       "      <td>2524.0</td>\n",
       "      <td>1.400000e+07</td>\n",
       "      <td>7.469056</td>\n",
       "      <td>1974.0</td>\n",
       "      <td>3.195007e+07</td>\n",
       "      <td>137.0</td>\n",
       "      <td>7.1</td>\n",
       "      <td>109.0</td>\n",
       "      <td>...</td>\n",
       "      <td>0</td>\n",
       "      <td>0</td>\n",
       "      <td>0</td>\n",
       "      <td>0</td>\n",
       "      <td>0</td>\n",
       "      <td>0</td>\n",
       "      <td>0</td>\n",
       "      <td>0</td>\n",
       "      <td>0.126701</td>\n",
       "      <td>0.017401</td>\n",
       "    </tr>\n",
       "  </tbody>\n",
       "</table>\n",
       "<p>5 rows × 33 columns</p>\n",
       "</div>"
      ],
      "text/plain": [
       "   rating  userId  movieId        budget  popularity  release_date  \\\n",
       "0     0.4    10.0   1358.0  1.000000e+06    8.457968        1996.0   \n",
       "1     0.7   237.0   1544.0  1.565299e+07    0.788123        1997.0   \n",
       "2     1.0    54.0    373.0  8.000000e+06    5.137903        1993.0   \n",
       "3     0.8    11.0   2053.0  1.565299e+07    8.457968        1992.0   \n",
       "4     0.6   183.0   2524.0  1.400000e+07    7.469056        1974.0   \n",
       "\n",
       "        revenue  runtime  vote_average  vote_count  ...  Family  Comedy  \\\n",
       "0  2.444412e+07    135.0           7.4       109.0  ...       0       0   \n",
       "1  3.195007e+07    129.0           6.2       109.0  ...       0       0   \n",
       "2  2.000000e+06     98.0           6.4        71.0  ...       0       0   \n",
       "3  3.195007e+07     89.0           4.8       109.0  ...       0       1   \n",
       "4  3.195007e+07    137.0           7.1       109.0  ...       0       0   \n",
       "\n",
       "   Horror  War  Foreign  Animation  Action  Adventure         0         1  \n",
       "0       0    0        0          0       0          0  0.191172 -0.024328  \n",
       "1       0    0        0          0       0          0  0.085781  0.002381  \n",
       "2       0    0        0          0       0          0  0.196126 -0.044103  \n",
       "3       0    0        0          0       0          0  0.213956 -0.048535  \n",
       "4       0    0        0          0       0          0  0.126701  0.017401  \n",
       "\n",
       "[5 rows x 33 columns]"
      ]
     },
     "execution_count": 114,
     "metadata": {},
     "output_type": "execute_result"
    }
   ],
   "source": [
    "train_df.head()"
   ]
  },
  {
   "cell_type": "code",
   "execution_count": 118,
   "metadata": {
    "tags": []
   },
   "outputs": [
    {
     "name": "stderr",
     "output_type": "stream",
     "text": [
      "C:\\Users\\rache\\anaconda3\\lib\\site-packages\\sklearn\\utils\\validation.py:1688: FutureWarning: Feature names only support names that are all strings. Got feature names with dtypes: ['int', 'str']. An error will be raised in 1.2.\n",
      "  warnings.warn(\n"
     ]
    },
    {
     "data": {
      "text/plain": [
       "GradientBoostingRegressor(learning_rate=0.2, max_depth=4, min_samples_split=15,\n",
       "                          n_estimators=960, random_state=150, subsample=0.75)"
      ]
     },
     "execution_count": 118,
     "metadata": {},
     "output_type": "execute_result"
    }
   ],
   "source": [
    "y_train = train_df['rating']\n",
    "X_train = train_df.drop(labels = 'rating', axis = 1)\n",
    "\n",
    "X_test = test_df\n",
    "\n",
    "parameters = {\n",
    "    \"n_estimators\": 960,\n",
    "    \"max_depth\": 4,\n",
    "    \"min_samples_split\": 15,\n",
    "    \"random_state\": 150,\n",
    "    'subsample': 0.75,\n",
    "    \"learning_rate\": 0.2,\n",
    "    \"loss\": \"squared_error\"\n",
    "\n",
    "}\n",
    "GB_regressor = GradientBoostingRegressor(**parameters)\n",
    "GB_regressor.fit(X_train, y_train)"
   ]
  },
  {
   "cell_type": "code",
   "execution_count": 119,
   "metadata": {
    "tags": []
   },
   "outputs": [
    {
     "name": "stderr",
     "output_type": "stream",
     "text": [
      "C:\\Users\\rache\\anaconda3\\lib\\site-packages\\sklearn\\utils\\validation.py:1688: FutureWarning: Feature names only support names that are all strings. Got feature names with dtypes: ['int', 'str']. An error will be raised in 1.2.\n",
      "  warnings.warn(\n"
     ]
    }
   ],
   "source": [
    "test_df['rating'] = (GB_regressor.predict(X_test))\n",
    "test_df['movieId'] = test_df['movieId'].astype(int).astype(str)\n",
    "test_df['userId'] = test_df['userId'].astype(int).astype(str)\n",
    "test_df['userId_movieId'] = test_df['userId'] + '_' + test_df['movieId']\n",
    "cols = ['userId_movieId', 'rating']\n",
    "test_df = test_df[cols]"
   ]
  },
  {
   "cell_type": "code",
   "execution_count": 120,
   "metadata": {},
   "outputs": [],
   "source": [
    "test_df.to_csv('submission.csv', index = False)"
   ]
  },
  {
   "cell_type": "markdown",
   "metadata": {},
   "source": [
    "#### JUST VOTE AVG"
   ]
  },
  {
   "cell_type": "code",
   "execution_count": 4,
   "metadata": {},
   "outputs": [],
   "source": [
    "train_df = pd.read_csv('checkpoint_train.csv', encoding = 'utf-8')\n",
    "test_df = pd.read_csv('checkpoint_test.csv', encoding = 'utf-8')"
   ]
  },
  {
   "cell_type": "code",
   "execution_count": 5,
   "metadata": {},
   "outputs": [],
   "source": [
    "cols = ['userId', 'movieId', 'vote_average']"
   ]
  },
  {
   "cell_type": "code",
   "execution_count": 6,
   "metadata": {
    "tags": []
   },
   "outputs": [
    {
     "data": {
      "text/plain": [
       "GradientBoostingRegressor(learning_rate=0.2, max_depth=4, min_samples_split=15,\n",
       "                          n_estimators=960, random_state=150, subsample=0.75)"
      ]
     },
     "execution_count": 6,
     "metadata": {},
     "output_type": "execute_result"
    }
   ],
   "source": [
    "y_train = train_df['rating']\n",
    "X_train = train_df[cols]\n",
    "\n",
    "X_test = test_df[cols]\n",
    "\n",
    "parameters = {\n",
    "    \"n_estimators\": 960,\n",
    "    \"max_depth\": 4,\n",
    "    \"min_samples_split\": 15,\n",
    "    \"random_state\": 150,\n",
    "    'subsample': 0.75,\n",
    "    \"learning_rate\": 0.2,\n",
    "    \"loss\": \"squared_error\"\n",
    "\n",
    "}\n",
    "GB_regressor = ensemble.GradientBoostingRegressor(**parameters)\n",
    "GB_regressor.fit(X_train, y_train)"
   ]
  },
  {
   "cell_type": "code",
   "execution_count": 7,
   "metadata": {
    "tags": []
   },
   "outputs": [],
   "source": [
    "test_df['rating'] = (GB_regressor.predict(X_test))\n",
    "test_df['movieId'] = test_df['movieId'].astype(int).astype(str)\n",
    "test_df['userId'] = test_df['userId'].astype(int).astype(str)\n",
    "test_df['userId_movieId'] = test_df['userId'] + '_' + test_df['movieId']\n",
    "cols = ['userId_movieId', 'rating']\n",
    "test_df = test_df[cols]"
   ]
  },
  {
   "cell_type": "code",
   "execution_count": 8,
   "metadata": {},
   "outputs": [],
   "source": [
    "test_df.to_csv('submission_just_voteavg_GBRegressor.csv', index = False)"
   ]
  },
  {
   "cell_type": "code",
   "execution_count": null,
   "metadata": {},
   "outputs": [],
   "source": []
  }
 ],
 "metadata": {
  "kernelspec": {
   "display_name": "Python 3 (ipykernel)",
   "language": "python",
   "name": "python3"
  },
  "language_info": {
   "codemirror_mode": {
    "name": "ipython",
    "version": 3
   },
   "file_extension": ".py",
   "mimetype": "text/x-python",
   "name": "python",
   "nbconvert_exporter": "python",
   "pygments_lexer": "ipython3",
   "version": "3.9.13"
  }
 },
 "nbformat": 4,
 "nbformat_minor": 4
}
