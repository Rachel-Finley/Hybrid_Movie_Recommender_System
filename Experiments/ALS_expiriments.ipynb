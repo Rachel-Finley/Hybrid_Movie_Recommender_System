{
 "cells": [
  {
   "cell_type": "code",
   "execution_count": 3,
   "id": "3381596d-73e4-467b-af8d-b3ebee7b2451",
   "metadata": {},
   "outputs": [
    {
     "name": "stdout",
     "output_type": "stream",
     "text": [
      "Collecting implicit\n",
      "  Using cached implicit-0.6.2-cp39-cp39-win_amd64.whl (647 kB)\n",
      "Requirement already satisfied: scipy>=0.16 in c:\\users\\rache\\anaconda3\\lib\\site-packages (from implicit) (1.9.1)\n",
      "Requirement already satisfied: numpy in c:\\users\\rache\\anaconda3\\lib\\site-packages (from implicit) (1.21.5)\n",
      "Requirement already satisfied: tqdm>=4.27 in c:\\users\\rache\\anaconda3\\lib\\site-packages (from implicit) (4.64.1)\n",
      "Requirement already satisfied: colorama in c:\\users\\rache\\anaconda3\\lib\\site-packages (from tqdm>=4.27->implicit) (0.4.5)\n",
      "Installing collected packages: implicit\n",
      "Successfully installed implicit-0.6.2\n"
     ]
    }
   ],
   "source": [
    "!pip install implicit"
   ]
  },
  {
   "cell_type": "code",
   "execution_count": null,
   "id": "3eba14c9-2290-4060-aed5-98444d233944",
   "metadata": {},
   "outputs": [],
   "source": [
    "import os\n",
    "os.environ['MKL_NUM_THREADS'] = '1'"
   ]
  },
  {
   "cell_type": "code",
   "execution_count": 1,
   "id": "07dacdb7-2cdd-4277-83a9-9e881cdea72c",
   "metadata": {},
   "outputs": [
    {
     "name": "stderr",
     "output_type": "stream",
     "text": [
      "C:\\Users\\rache\\anaconda3\\lib\\site-packages\\implicit\\utils.py:33: UserWarning: Intel MKL BLAS detected. Its highly recommend to set the environment variable 'export MKL_NUM_THREADS=1' to disable its internal multithreading\n",
      "  warnings.warn(\n"
     ]
    },
    {
     "data": {
      "application/vnd.jupyter.widget-view+json": {
       "model_id": "63c94ae5bf884327b82a5e7f836aff66",
       "version_major": 2,
       "version_minor": 0
      },
      "text/plain": [
       "  0%|          | 0/100 [00:00<?, ?it/s]"
      ]
     },
     "metadata": {},
     "output_type": "display_data"
    }
   ],
   "source": [
    "import numpy as np\n",
    "import pandas as pd\n",
    "import scipy.sparse as sp\n",
    "from implicit.als import AlternatingLeastSquares\n",
    "\n",
    "# Generate sample train and test dataframes\n",
    "# train_df = pd.read_csv('checkpoint_train.csv', encoding = 'utf-8')\n",
    "# test_df = pd.read_csv('checkpoint_test.csv', encoding = 'utf-8')\n",
    "\n",
    "train_df = pd.read_csv('checkpoint_train.csv', dtype={'userId': int, 'movieId': int, 'rating': float}, na_values='', keep_default_na=False)\n",
    "test_df = pd.read_csv('checkpoint_test.csv', dtype={'userId': int, 'movieId': int, 'rating': float}, na_values='', keep_default_na=False)\n",
    "# Create user-product matrix from train dataframe\n",
    "user_item_matrix = train_df.pivot(index='userId', columns='movieId', values='rating').fillna(0)\n",
    "\n",
    "# Get user and product IDs in train set\n",
    "train_user_ids = set(train_df['userId'].unique())\n",
    "train_movie_ids = set(train_df['movieId'].unique())\n",
    "\n",
    "# Get user and product IDs in test set\n",
    "test_user_ids = set(test_df['userId'].unique())\n",
    "test_movie_ids = set(test_df['movieId'].unique())\n",
    "\n",
    "# Get user and product IDs that are present in both sets\n",
    "user_ids = list(train_user_ids.intersection(test_user_ids))\n",
    "movie_ids = list(train_movie_ids.intersection(test_movie_ids))\n",
    "\n",
    "# Create a mapping from the original IDs to the new IDs\n",
    "user_id_map = dict(zip(user_ids, range(len(user_ids))))\n",
    "movie_id_map = dict(zip(movie_ids, range(len(movie_ids))))\n",
    "\n",
    "# Update user and product IDs in train and test dataframes\n",
    "train_df['userId'] = train_df['userId'].map(user_id_map)\n",
    "train_df['movieId'] = train_df['movieId'].map(movie_id_map)\n",
    "test_df['userId'] = test_df['userId'].map(user_id_map)\n",
    "test_df['movieId'] = test_df['movieId'].map(movie_id_map)\n",
    "\n",
    "# Convert user-product matrix to sparse matrix\n",
    "user_item_sparse = sp.csr_matrix(user_item_matrix.loc[user_ids, movie_ids].values)\n",
    "\n",
    "# Number of latent factors\n",
    "K = 2\n",
    "\n",
    "# ALS algorithm using the implicit library\n",
    "model = AlternatingLeastSquares(factors=K, regularization=0.1, iterations=100)\n",
    "model.fit(user_item_sparse)\n",
    "\n",
    "# Get user and product matrices\n",
    "user_matrix = model.user_factors\n",
    "product_matrix = model.item_factors\n",
    "\n",
    "# Predict ratings for test dataframe\n",
    "test_df['rating'] = np.nan\n",
    "for i, row in test_df.iterrows():\n",
    "    user_id = row['userId']\n",
    "    movie_id = row['movieId']\n",
    "    if user_id in user_ids and movie_id in movie_ids:\n",
    "        new_movie_id = movie_id_map[movie_id]\n",
    "        pred_rating = np.dot(user_matrix[user_id], product_matrix[new_movie_id].T)\n",
    "        test_df.at[i, 'rating'] = pred_rating\n"
   ]
  },
  {
   "cell_type": "code",
   "execution_count": 2,
   "id": "a60be8cc-d4d1-4984-b533-ecc93437e2f6",
   "metadata": {},
   "outputs": [],
   "source": [
    "test_df['movieId'] = test_df['movieId'].astype (str)\n",
    "test_df['userId']= test_df['userId'].astype (str)\n",
    "test_df['userId_movieId'] = test_df['userId'] + '_' + test_df['movieId']\n",
    "cols = ['userId_movieId', 'rating']\n",
    "test_df = test_df[cols]"
   ]
  },
  {
   "cell_type": "code",
   "execution_count": 3,
   "id": "088b007e-c08f-41ed-aa8c-f48e99dddb11",
   "metadata": {},
   "outputs": [
    {
     "data": {
      "text/plain": [
       "(30002, 2)"
      ]
     },
     "execution_count": 3,
     "metadata": {},
     "output_type": "execute_result"
    }
   ],
   "source": [
    "test_df.shape"
   ]
  },
  {
   "cell_type": "code",
   "execution_count": null,
   "id": "dadb2e5c-6ef5-4c6b-a33c-c728a8ab5ed3",
   "metadata": {},
   "outputs": [],
   "source": [
    "# Create an empty dataframe to store predictions\n",
    "pred_df = pd.DataFrame(columns = ['userId', 'movieId', 'rating'])\n",
    "\n",
    "# Iterate through all combinations of userIds and movieIds in the test dataframe\n",
    "for user_id in test_user_ids:\n",
    "    for movie_id in test_movie_ids:\n",
    "        # Check if the user and movie are present in the train set\n",
    "        if user_id in user_ids and movie_id in movie_ids:\n",
    "            new_movie_id = movie_id_map[movie_id]\n",
    "            pred_rating = np.dot(user_matrix[user_id_map[user_id]], product_matrix[new_movie_id].T)\n",
    "            new_row = pd.DataFrame({'userId': [user_id], 'movieId': [movie_id], 'rating': [pred_rating]})\n",
    "            pred_df = pd.concat([pred_df, new_row], ignore_index=True)\n"
   ]
  },
  {
   "cell_type": "code",
   "execution_count": null,
   "id": "7e495ec5-b33e-4033-b6fe-2fbc2a914e29",
   "metadata": {},
   "outputs": [],
   "source": [
    "pred_df.to_csv('submission_ALS_first_attempt.csv', index = False)"
   ]
  },
  {
   "cell_type": "code",
   "execution_count": null,
   "id": "1279d1ff-8e5e-48fc-b743-b487181a3a85",
   "metadata": {},
   "outputs": [],
   "source": []
  }
 ],
 "metadata": {
  "kernelspec": {
   "display_name": "Python 3 (ipykernel)",
   "language": "python",
   "name": "python3"
  },
  "language_info": {
   "codemirror_mode": {
    "name": "ipython",
    "version": 3
   },
   "file_extension": ".py",
   "mimetype": "text/x-python",
   "name": "python",
   "nbconvert_exporter": "python",
   "pygments_lexer": "ipython3",
   "version": "3.9.13"
  }
 },
 "nbformat": 4,
 "nbformat_minor": 5
}
