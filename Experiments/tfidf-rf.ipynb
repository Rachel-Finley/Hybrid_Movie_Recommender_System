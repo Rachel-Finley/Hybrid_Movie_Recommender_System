{
 "cells": [
  {
   "cell_type": "markdown",
   "id": "94adb094-3e69-42b6-96dc-ec4dbc72614d",
   "metadata": {},
   "source": [
    "### TFIDF -> Random Forest Regressor"
   ]
  },
  {
   "cell_type": "markdown",
   "id": "6e4d0bbf-5d25-476b-bd1c-a89da9f49db3",
   "metadata": {},
   "source": [
    "#### Nessecary Imports"
   ]
  },
  {
   "cell_type": "code",
   "execution_count": 5,
   "id": "cfd2e34e-c9d1-467b-8b67-6d65ce351b25",
   "metadata": {},
   "outputs": [],
   "source": [
    "from sklearn.feature_extraction.text import TfidfVectorizer\n",
    "from sklearn.ensemble import RandomForestRegressor\n",
    "import pandas as pd\n",
    "import numpy as np"
   ]
  },
  {
   "cell_type": "markdown",
   "id": "0c62720b-07a3-4ec0-91fe-0d627fcfa32b",
   "metadata": {},
   "source": [
    "#### Load in data / Separate out/ drop numerical data, isolate text data."
   ]
  },
  {
   "cell_type": "code",
   "execution_count": 18,
   "id": "7e635c5b-0fb2-47ea-8556-26dbc050907a",
   "metadata": {},
   "outputs": [],
   "source": [
    "train_df = pd.read_csv('checkpoint_train_v1.csv', encoding = 'utf-8')\n",
    "test_df = pd.read_csv('checkpoint_test_v1.csv', encoding = 'utf-8')"
   ]
  },
  {
   "cell_type": "code",
   "execution_count": 6,
   "id": "ddc3626b-57a2-426c-b7f0-8da56c5387b0",
   "metadata": {},
   "outputs": [],
   "source": [
    "text_columns = ['overview', 'tagline', 'title', 'all_keywords', 'part_of_collection']\n",
    "numerical_columns = ['userId', 'movieId', 'release_date', 'budget', 'popularity', 'revenue', \n",
    "                     'runtime', 'vote_average', 'vote_count', 'old', \n",
    "                     'Science Fiction', 'Crime', 'Thriller', 'Drama', \n",
    "                     'Horror', 'Romance', 'TV Movie', 'Action', \n",
    "                     'Adventure', 'War', 'Documentary', 'Family', \n",
    "                     'Fantasy', 'Music', 'Animation', 'Mystery', \n",
    "                     'Comedy', 'Western', 'Foreign', 'History']"
   ]
  },
  {
   "cell_type": "markdown",
   "id": "4631d426-096c-472b-8bce-c87536c8179f",
   "metadata": {},
   "source": [
    "#### Create combined text column"
   ]
  },
  {
   "cell_type": "code",
   "execution_count": 8,
   "id": "86dbdb64-dfaa-4bca-bb28-a247bc48b1b4",
   "metadata": {},
   "outputs": [],
   "source": [
    "train_df = train_df.fillna('').astype(str)\n",
    "test_df = test_df.fillna('').astype(str)"
   ]
  },
  {
   "cell_type": "code",
   "execution_count": 9,
   "id": "e3cd0ec1-a236-4590-be9c-e6892c355177",
   "metadata": {},
   "outputs": [],
   "source": [
    "train_df['corpus'] = train_df['overview'] + \"_\" + train_df['tagline'] + \"_\" + train_df['title'] + \"_\" + train_df['all_keywords'] + \"_\" + train_df['part_of_collection']\n",
    "test_df['corpus'] = test_df['overview'] + \"_\" + test_df['tagline'] + \"_\" + test_df['title'] + \"_\" + test_df['all_keywords'] + \"_\" + test_df['part_of_collection']"
   ]
  },
  {
   "cell_type": "markdown",
   "id": "5e79d258-79a6-4a14-b0dc-97933c8635bf",
   "metadata": {},
   "source": [
    "#### Initialize Vectorizer, fit to text column, create tfidf matricies"
   ]
  },
  {
   "cell_type": "code",
   "execution_count": 10,
   "id": "2bb5cf9d-23d0-4b43-8fd3-030767cffe0b",
   "metadata": {},
   "outputs": [],
   "source": [
    "vectorizer = TfidfVectorizer()\n",
    "vectorizer.fit(train_df['corpus'])\n",
    "train_tfidf_matrix = vectorizer.transform(train_df['corpus'])\n",
    "test_tfidf_matrix = vectorizer.transform(test_df['corpus'])"
   ]
  },
  {
   "cell_type": "markdown",
   "id": "521789f7-4620-4789-b9eb-472845ebaa51",
   "metadata": {},
   "source": [
    "#### Create train/ test sets"
   ]
  },
  {
   "cell_type": "code",
   "execution_count": 11,
   "id": "fadc8c1d-894a-4848-bf28-dcc5f1fad298",
   "metadata": {},
   "outputs": [],
   "source": [
    "y_train = train_df['rating']\n",
    "X_train = train_tfidf_matrix\n",
    "\n",
    "X_test = test_tfidf_matrix"
   ]
  },
  {
   "cell_type": "markdown",
   "id": "501ee2a5-5fc0-467b-900c-4137f9e009b2",
   "metadata": {},
   "source": [
    "#### Initialize/ Train Random Forest Model"
   ]
  },
  {
   "cell_type": "code",
   "execution_count": 12,
   "id": "588d61a7-5a5c-4692-bee7-3cf969d55c8c",
   "metadata": {},
   "outputs": [],
   "source": [
    "rf_parameters = {\n",
    "    'random_state': 150,\n",
    "    'n_estimators': 500,\n",
    "    'max_depth': 10\n",
    "}"
   ]
  },
  {
   "cell_type": "code",
   "execution_count": 13,
   "id": "84572a67-a146-4715-af80-7305681174b6",
   "metadata": {},
   "outputs": [
    {
     "data": {
      "text/plain": [
       "RandomForestRegressor(max_depth=10, n_estimators=500, random_state=150)"
      ]
     },
     "execution_count": 13,
     "metadata": {},
     "output_type": "execute_result"
    }
   ],
   "source": [
    "RF_regressor = RandomForestRegressor(**rf_parameters)\n",
    "RF_regressor.fit(X_train, y_train)"
   ]
  },
  {
   "cell_type": "markdown",
   "id": "2db58283-0796-4c12-9439-5211bf325ead",
   "metadata": {},
   "source": [
    "#### Save / Submit Results"
   ]
  },
  {
   "cell_type": "code",
   "execution_count": 20,
   "id": "34f5e286-3cdc-4c39-bd8a-d18d0bfad8bb",
   "metadata": {},
   "outputs": [],
   "source": [
    "test_df['rating'] = (RF_regressor.predict(X_test))\n",
    "test_df['movieId'] = test_df['movieId'].astype(int).astype(str)\n",
    "test_df['userId'] = test_df['userId'].astype(int).astype(str)\n",
    "test_df['userId_movieId'] = test_df['userId'] + '_' + test_df['movieId']\n",
    "cols = ['userId_movieId', 'rating']\n",
    "test_df = test_df[cols]"
   ]
  },
  {
   "cell_type": "code",
   "execution_count": 21,
   "id": "61053daf-44ec-4e39-a22c-42bcb943b884",
   "metadata": {},
   "outputs": [
    {
     "data": {
      "text/html": [
       "<div>\n",
       "<style scoped>\n",
       "    .dataframe tbody tr th:only-of-type {\n",
       "        vertical-align: middle;\n",
       "    }\n",
       "\n",
       "    .dataframe tbody tr th {\n",
       "        vertical-align: top;\n",
       "    }\n",
       "\n",
       "    .dataframe thead th {\n",
       "        text-align: right;\n",
       "    }\n",
       "</style>\n",
       "<table border=\"1\" class=\"dataframe\">\n",
       "  <thead>\n",
       "    <tr style=\"text-align: right;\">\n",
       "      <th></th>\n",
       "      <th>userId_movieId</th>\n",
       "      <th>rating</th>\n",
       "    </tr>\n",
       "  </thead>\n",
       "  <tbody>\n",
       "    <tr>\n",
       "      <th>0</th>\n",
       "      <td>469_2124</td>\n",
       "      <td>0.674123</td>\n",
       "    </tr>\n",
       "  </tbody>\n",
       "</table>\n",
       "</div>"
      ],
      "text/plain": [
       "  userId_movieId    rating\n",
       "0       469_2124  0.674123"
      ]
     },
     "execution_count": 21,
     "metadata": {},
     "output_type": "execute_result"
    }
   ],
   "source": [
    "test_df.head(1)"
   ]
  },
  {
   "cell_type": "code",
   "execution_count": 22,
   "id": "edda16c8-0acd-4460-8cae-ef1c8deb7e80",
   "metadata": {},
   "outputs": [],
   "source": [
    "test_df.to_csv('submission.csv', index = False)"
   ]
  },
  {
   "cell_type": "markdown",
   "id": "41ef2ec6-6603-4473-826b-ab2032473b96",
   "metadata": {},
   "source": [
    "Model RMSE: 0.2055"
   ]
  },
  {
   "cell_type": "markdown",
   "id": "ca5850d1-74e0-4c99-abcd-c6212a4ec835",
   "metadata": {},
   "source": [
    "### Idea for a next step: Do some hyperparam tuning / add the other numerical and categorical features and do apples to apples comparisons with this model"
   ]
  },
  {
   "cell_type": "code",
   "execution_count": null,
   "id": "85b33f98-9f68-44ae-bcf6-2ef64ab5c8c2",
   "metadata": {},
   "outputs": [],
   "source": []
  }
 ],
 "metadata": {
  "kernelspec": {
   "display_name": "Python 3 (ipykernel)",
   "language": "python",
   "name": "python3"
  },
  "language_info": {
   "codemirror_mode": {
    "name": "ipython",
    "version": 3
   },
   "file_extension": ".py",
   "mimetype": "text/x-python",
   "name": "python",
   "nbconvert_exporter": "python",
   "pygments_lexer": "ipython3",
   "version": "3.9.13"
  }
 },
 "nbformat": 4,
 "nbformat_minor": 5
}
