{
 "cells": [
  {
   "cell_type": "code",
   "execution_count": 1,
   "id": "0484c078-9cfd-4b92-a221-dcd6ff1b9a8a",
   "metadata": {},
   "outputs": [
    {
     "name": "stderr",
     "output_type": "stream",
     "text": [
      "C:\\Users\\rache\\anaconda3\\lib\\site-packages\\sklearn\\utils\\validation.py:1688: FutureWarning: Feature names only support names that are all strings. Got feature names with dtypes: ['int', 'str']. An error will be raised in 1.2.\n",
      "  warnings.warn(\n",
      "C:\\Users\\rache\\anaconda3\\lib\\site-packages\\sklearn\\utils\\validation.py:1688: FutureWarning: Feature names only support names that are all strings. Got feature names with dtypes: ['int', 'str']. An error will be raised in 1.2.\n",
      "  warnings.warn(\n",
      "C:\\Users\\rache\\anaconda3\\lib\\site-packages\\sklearn\\utils\\validation.py:1688: FutureWarning: Feature names only support names that are all strings. Got feature names with dtypes: ['int', 'str']. An error will be raised in 1.2.\n",
      "  warnings.warn(\n"
     ]
    }
   ],
   "source": [
    "import pandas as pd\n",
    "from sklearn.feature_extraction.text import TfidfVectorizer\n",
    "from sklearn.decomposition import TruncatedSVD\n",
    "from sklearn.cluster import KMeans\n",
    "from sklearn.preprocessing import MinMaxScaler\n",
    "\n",
    "train_df = pd.read_csv(\"checkpoint_train.csv\")\n",
    "test_df = pd.read_csv(\"checkpoint_test.csv\")    \n",
    "\n",
    "text_columns = ['overview', 'tagline', 'title', 'all_keywords']\n",
    "\n",
    "num_train = train_df.drop(columns = text_columns)\n",
    "num_test = test_df.drop(columns = text_columns)\n",
    "\n",
    "train_df[text_columns] = train_df[text_columns].fillna(\"\").astype(str)\n",
    "test_df[text_columns] = test_df[text_columns].fillna(\"\").astype(str)\n",
    "\n",
    "vectorizer = TfidfVectorizer()\n",
    "vectorizer.fit(train_df['all_keywords'])\n",
    "tfidf_train_matrix = vectorizer.transform(train_df['all_keywords'])\n",
    "tfidf_test_matrix = vectorizer.transform(test_df['all_keywords'])\n",
    "\n",
    "svd_model = TruncatedSVD(n_components = 1)\n",
    "svd_matrix_train = svd_model.fit_transform(tfidf_train_matrix)\n",
    "svd_matrix_test = svd_model.fit_transform(tfidf_test_matrix)\n",
    "\n",
    "train_df = pd.merge(num_train, pd.DataFrame(svd_matrix_train), left_index = True, right_index = True)\n",
    "test_df = pd.merge(num_test, pd.DataFrame(svd_matrix_test), left_index = True, right_index = True)\n",
    "\n",
    "X_train = train_df.drop(labels = 'rating', axis = 1)\n",
    "y_train = train_df['rating']\n",
    "\n",
    "X_test = test_df\n",
    "\n",
    "# Scale features to the range [0, 1]\n",
    "scaler = MinMaxScaler()\n",
    "X_train = scaler.fit_transform(X_train)\n",
    "X_test = scaler.transform(X_test)\n",
    "\n",
    "# Use KMeans clustering\n",
    "n_clusters = 5\n",
    "kmeans = KMeans(n_clusters=n_clusters, random_state=42)\n",
    "kmeans.fit(X_train, y_train)\n",
    "\n",
    "# Assign cluster labels to the test data\n",
    "test_df['cluster'] = kmeans.predict(X_test)\n",
    "\n",
    "# Calculate mean rating for each cluster in the training data\n",
    "cluster_means = train_df.groupby(kmeans.labels_)['rating'].mean()\n",
    "\n",
    "# Assign predicted ratings based on the cluster means\n",
    "test_df['rating'] = test_df['cluster'].apply(lambda x: cluster_means[x])\n",
    "\n",
    "test_df['movieId'] = test_df['movieId'].astype(int).astype(str)\n",
    "test_df['userId'] = test_df['userId'].astype(int).astype(str)\n",
    "test_df['userId_movieId'] = test_df['userId'] + '_' + test_df['movieId']\n",
    "cols = ['userId_movieId', 'rating']\n",
    "test_df = test_df[cols]\n",
    "\n",
    "test_df.to_csv('submission_tfidf_justkeywords_svdtrunc_kmeans.csv', index = False)"
   ]
  },
  {
   "cell_type": "code",
   "execution_count": null,
   "id": "f4147fdf-1ac1-47a0-b1f5-7c1ab68360d0",
   "metadata": {},
   "outputs": [],
   "source": []
  }
 ],
 "metadata": {
  "kernelspec": {
   "display_name": "Python 3 (ipykernel)",
   "language": "python",
   "name": "python3"
  },
  "language_info": {
   "codemirror_mode": {
    "name": "ipython",
    "version": 3
   },
   "file_extension": ".py",
   "mimetype": "text/x-python",
   "name": "python",
   "nbconvert_exporter": "python",
   "pygments_lexer": "ipython3",
   "version": "3.9.13"
  }
 },
 "nbformat": 4,
 "nbformat_minor": 5
}
