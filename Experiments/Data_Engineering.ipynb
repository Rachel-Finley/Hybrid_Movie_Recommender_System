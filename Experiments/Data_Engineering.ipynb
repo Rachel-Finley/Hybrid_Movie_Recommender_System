{
 "cells": [
  {
   "cell_type": "markdown",
   "id": "3ef83e28-767e-4211-bf4a-028595baf6f9",
   "metadata": {},
   "source": [
    "# A notebook for trying out and subsequently analyzing various preprocessing and feature engineering techniques with the goal of improving model performance.\n",
    "- ## Although our team is currently in first place, I believe that we can still deeply improve on our performance and keep growing/ learning as fledgling Data Scientists"
   ]
  },
  {
   "cell_type": "markdown",
   "id": "08af330f-c67a-4fb1-bac7-e7640cae63b8",
   "metadata": {
    "tags": []
   },
   "source": [
    "## Basic imports, and loading in our preprocessed data."
   ]
  },
  {
   "cell_type": "code",
   "execution_count": 2,
   "id": "4e77a6e9-8d7d-4e88-88d9-cf5a1d8245c9",
   "metadata": {},
   "outputs": [],
   "source": [
    "import pandas as pd\n",
    "import numpy as np\n",
    "import seaborn as sns\n",
    "import matplotlib.pyplot as plt"
   ]
  },
  {
   "cell_type": "code",
   "execution_count": 3,
   "id": "9a36631b-758a-43be-8ae0-f45cedc204b3",
   "metadata": {},
   "outputs": [],
   "source": [
    "train_df = pd.read_csv(\"checkpoint_train_v1.csv\", encoding = 'utf-8')"
   ]
  },
  {
   "cell_type": "code",
   "execution_count": 4,
   "id": "8ee5be47-badf-4cb5-9dac-3e4286041096",
   "metadata": {},
   "outputs": [],
   "source": [
    "test_df = pd.read_csv(\"checkpoint_test_v1.csv\", encoding = 'utf-8')"
   ]
  },
  {
   "cell_type": "markdown",
   "id": "d27eed69-fc2a-4af6-988e-c31ec347c69a",
   "metadata": {
    "tags": []
   },
   "source": [
    "## Set all non-float columns back to integers, round float columns to hundreths.\n",
    "### Hopefully, this will reduce noise, and increase predictability"
   ]
  },
  {
   "cell_type": "markdown",
   "id": "06a3f8c0-e37b-4ac2-891b-54222cd37476",
   "metadata": {
    "tags": []
   },
   "source": [
    "#### Train Data"
   ]
  },
  {
   "cell_type": "code",
   "execution_count": 5,
   "id": "cfa981c5-8ad3-4b64-99ca-79b1c2707545",
   "metadata": {},
   "outputs": [],
   "source": [
    "train_df['release_date'] = train_df['release_date'].astype(int)\n",
    "train_df['runtime'] = train_df['runtime'].astype(int)\n",
    "train_df['vote_count'] = train_df['vote_count'].astype(int)\n",
    "train_df['movieId'] = train_df['movieId'].astype(int)\n",
    "train_df['userId'] = train_df['userId'].astype(int)"
   ]
  },
  {
   "cell_type": "code",
   "execution_count": 6,
   "id": "e8d06818-d937-4dc3-8a9b-d65e657b46a8",
   "metadata": {},
   "outputs": [],
   "source": [
    "train_df['revenue'] = train_df['revenue'].round(2)\n",
    "train_df['budget'] = train_df['budget'].round(2)\n",
    "train_df['popularity'] = train_df['popularity'].round(2)\n",
    "train_df['vote_average'] = train_df['vote_average'].round(2)"
   ]
  },
  {
   "cell_type": "markdown",
   "id": "eb0b7c0c-6d83-470d-9bf6-3f81d70ca07f",
   "metadata": {
    "tags": []
   },
   "source": [
    "#### Test Data"
   ]
  },
  {
   "cell_type": "code",
   "execution_count": 7,
   "id": "3f56ccf1-132c-4ac5-bb92-6f01e989a91b",
   "metadata": {},
   "outputs": [],
   "source": [
    "test_df['release_date'] = test_df['release_date'].astype(int)\n",
    "test_df['runtime'] = test_df['runtime'].astype(int)\n",
    "test_df['vote_count'] = test_df['vote_count'].astype(int)\n",
    "test_df['movieId'] = test_df['movieId'].astype(int)\n",
    "test_df['userId'] = test_df['userId'].astype(int)"
   ]
  },
  {
   "cell_type": "code",
   "execution_count": 8,
   "id": "af97bd09-766f-40ee-b527-d76d5e7d21ae",
   "metadata": {},
   "outputs": [],
   "source": [
    "test_df['revenue'] = test_df['revenue'].round(2)\n",
    "test_df['budget'] = test_df['budget'].round(2)\n",
    "test_df['popularity'] = test_df['popularity'].round(2)\n",
    "test_df['vote_average'] = test_df['vote_average'].round(2)"
   ]
  },
  {
   "cell_type": "markdown",
   "id": "33e86b4c-61a4-45ad-9ba7-e7a2ffed20f8",
   "metadata": {
    "tags": []
   },
   "source": [
    "## Idea: Transform Part of Collection column into a binary feature depending on wether or not it is a part of a collection\n",
    "### Hopefully, this will make use of an un-utilized feature"
   ]
  },
  {
   "cell_type": "markdown",
   "id": "befba0b9-f944-4f5b-a5d4-7a574d804a18",
   "metadata": {
    "tags": []
   },
   "source": [
    "#### Train Data"
   ]
  },
  {
   "cell_type": "code",
   "execution_count": 9,
   "id": "3ed88266-3da9-44a0-a896-be607b3f4ae5",
   "metadata": {},
   "outputs": [],
   "source": [
    "train_df['part_of_collection'] = train_df['part_of_collection'].apply(lambda x: 0 if x == 'not available' else 1)"
   ]
  },
  {
   "cell_type": "code",
   "execution_count": 10,
   "id": "a6b791d0-fb8c-472c-8373-db36d41276a3",
   "metadata": {},
   "outputs": [
    {
     "data": {
      "text/plain": [
       "0    0\n",
       "1    1\n",
       "Name: part_of_collection, dtype: int64"
      ]
     },
     "execution_count": 10,
     "metadata": {},
     "output_type": "execute_result"
    }
   ],
   "source": [
    "train_df['part_of_collection'].head(2)"
   ]
  },
  {
   "cell_type": "markdown",
   "id": "f75d4419-c36c-47f9-bbb9-8524ee3ccbf9",
   "metadata": {
    "tags": []
   },
   "source": [
    "#### Test Data"
   ]
  },
  {
   "cell_type": "code",
   "execution_count": 11,
   "id": "a0709809-8370-4f35-b308-32f98d3bfe34",
   "metadata": {},
   "outputs": [],
   "source": [
    "test_df['part_of_collection'] = test_df['part_of_collection'].apply(lambda x: 0 if x == 'not available' else 1)"
   ]
  },
  {
   "cell_type": "code",
   "execution_count": 12,
   "id": "e1eddd58-7004-4af1-91dc-e349b0b55bd6",
   "metadata": {},
   "outputs": [
    {
     "data": {
      "text/plain": [
       "0    1\n",
       "1    0\n",
       "Name: part_of_collection, dtype: int64"
      ]
     },
     "execution_count": 12,
     "metadata": {},
     "output_type": "execute_result"
    }
   ],
   "source": [
    "test_df['part_of_collection'].head(2)"
   ]
  },
  {
   "cell_type": "markdown",
   "id": "72417f6b-dd9d-4134-a844-21a074d7ee9f",
   "metadata": {},
   "source": [
    "#### Checking for correlation"
   ]
  },
  {
   "cell_type": "code",
   "execution_count": 13,
   "id": "5b47c349-6c59-41f1-b75f-73c64d5a6e22",
   "metadata": {},
   "outputs": [
    {
     "data": {
      "image/png": "[encoded data removed]",
      "text/plain": [
       "<Figure size 640x480 with 1 Axes>"
      ]
     },
     "metadata": {},
     "output_type": "display_data"
    }
   ],
   "source": [
    "data = train_df[['part_of_collection', 'rating']]\n",
    "sns.boxplot(x='part_of_collection', y='rating', data = data)\n",
    "plt.title('Impact of Collection Membership on Movie Ratings')\n",
    "plt.xlabel('Part of Collection')\n",
    "plt.ylabel('Rating')\n",
    "plt.show()"
   ]
  },
  {
   "cell_type": "markdown",
   "id": "88a25071-4bf0-4824-8360-1bb51db4b5b4",
   "metadata": {},
   "source": [
    "#### Analysis / Conclusion"
   ]
  },
  {
   "cell_type": "markdown",
   "id": "058c10a5-ee8a-4280-9887-ac74ceaaddd7",
   "metadata": {},
   "source": [
    "It does not seem as though our part of collection variable is having any kind of impact on our target variable, rating. I am going to take this as a sign that it does not have much feature correlation, and at least for now, drop the column from the training and test sets."
   ]
  },
  {
   "cell_type": "code",
   "execution_count": 112,
   "id": "4475ceb9-cd92-41e4-b08a-24b23a4a4631",
   "metadata": {},
   "outputs": [],
   "source": [
    "train_df.drop(columns = 'part_of_collection', inplace = True)\n",
    "test_df.drop(columns = 'part_of_collection', inplace = True)"
   ]
  },
  {
   "cell_type": "markdown",
   "id": "fcc788b3-d7d9-429b-8245-1ebba8beefd8",
   "metadata": {},
   "source": [
    "## Idea: Create a binary feature based on a movie being in the 10th percentile and 90th percentile of its years' revenue, basically, monitarily successful or not"
   ]
  },
  {
   "cell_type": "markdown",
   "id": "945b8e50-60d1-4397-9cac-6a68292eaf19",
   "metadata": {},
   "source": [
    "#### Setup"
   ]
  },
  {
   "cell_type": "code",
   "execution_count": 14,
   "id": "d18b21be-98b0-47a1-aee6-69e71dc17f9b",
   "metadata": {},
   "outputs": [],
   "source": [
    "''' Calculate 10th and 90th percentile of revenue '''\n",
    "\n",
    "tenth_percentile_revenue = train_df.groupby('release_date')['revenue'].quantile(.1)\n",
    "ninetieth_percentile_revenue = train_df.groupby('release_date')['revenue'].quantile(.9)"
   ]
  },
  {
   "cell_type": "code",
   "execution_count": 15,
   "id": "729beea9-d52e-4186-8810-c8de46fdc5f1",
   "metadata": {},
   "outputs": [],
   "source": [
    "''' Define function for creating binary column based on our conditions'''\n",
    "\n",
    "def is_high_revenue(row):\n",
    "    release_date = row['release_date']\n",
    "    revenue = row['revenue']\n",
    "    ninetieth_percentile = ninetieth_percentile_revenue.loc[release_date]\n",
    "    return revenue >= ninetieth_percentile\n",
    "\n",
    "def is_low_revenue(row):\n",
    "    release_date = row['release_date']\n",
    "    revenue = row['revenue']\n",
    "    tenth_percentile = tenth_percentile_revenue.loc[release_date]\n",
    "    return revenue <= tenth_percentile"
   ]
  },
  {
   "cell_type": "markdown",
   "id": "869842f9-09bc-481d-9c99-c0d4033b69e1",
   "metadata": {},
   "source": [
    "#### Train Data"
   ]
  },
  {
   "cell_type": "code",
   "execution_count": 16,
   "id": "3869b507-6071-4da8-8bfe-c6f512fab918",
   "metadata": {},
   "outputs": [],
   "source": [
    "train_df['high_revenue'] = train_df.apply(is_high_revenue, axis=1)\n",
    "train_df['low_revenue'] = train_df.apply(is_low_revenue, axis=1)"
   ]
  },
  {
   "cell_type": "code",
   "execution_count": 17,
   "id": "83ce6fbd-98fc-491c-a31b-81439aed4d48",
   "metadata": {},
   "outputs": [
    {
     "data": {
      "text/html": [
       "<div>\n",
       "<style scoped>\n",
       "    .dataframe tbody tr th:only-of-type {\n",
       "        vertical-align: middle;\n",
       "    }\n",
       "\n",
       "    .dataframe tbody tr th {\n",
       "        vertical-align: top;\n",
       "    }\n",
       "\n",
       "    .dataframe thead th {\n",
       "        text-align: right;\n",
       "    }\n",
       "</style>\n",
       "<table border=\"1\" class=\"dataframe\">\n",
       "  <thead>\n",
       "    <tr style=\"text-align: right;\">\n",
       "      <th></th>\n",
       "      <th>high_revenue</th>\n",
       "      <th>low_revenue</th>\n",
       "    </tr>\n",
       "  </thead>\n",
       "  <tbody>\n",
       "    <tr>\n",
       "      <th>0</th>\n",
       "      <td>False</td>\n",
       "      <td>False</td>\n",
       "    </tr>\n",
       "    <tr>\n",
       "      <th>1</th>\n",
       "      <td>True</td>\n",
       "      <td>False</td>\n",
       "    </tr>\n",
       "  </tbody>\n",
       "</table>\n",
       "</div>"
      ],
      "text/plain": [
       "   high_revenue  low_revenue\n",
       "0         False        False\n",
       "1          True        False"
      ]
     },
     "execution_count": 17,
     "metadata": {},
     "output_type": "execute_result"
    }
   ],
   "source": [
    "train_df[['high_revenue', 'low_revenue']].head(2)"
   ]
  },
  {
   "cell_type": "markdown",
   "id": "2d6609ba-ead0-401c-83c1-13d850778b65",
   "metadata": {},
   "source": [
    "#### Test Data"
   ]
  },
  {
   "cell_type": "code",
   "execution_count": 18,
   "id": "f556e640-7145-4909-85a3-b9a57c4aeb87",
   "metadata": {},
   "outputs": [],
   "source": [
    "test_df['high_revenue'] = test_df.apply(is_high_revenue, axis=1)\n",
    "test_df['low_revenue'] = test_df.apply(is_low_revenue, axis=1)"
   ]
  },
  {
   "cell_type": "code",
   "execution_count": 19,
   "id": "56d89fc5-825e-4f72-8af7-20995e16d1a1",
   "metadata": {},
   "outputs": [
    {
     "data": {
      "text/html": [
       "<div>\n",
       "<style scoped>\n",
       "    .dataframe tbody tr th:only-of-type {\n",
       "        vertical-align: middle;\n",
       "    }\n",
       "\n",
       "    .dataframe tbody tr th {\n",
       "        vertical-align: top;\n",
       "    }\n",
       "\n",
       "    .dataframe thead th {\n",
       "        text-align: right;\n",
       "    }\n",
       "</style>\n",
       "<table border=\"1\" class=\"dataframe\">\n",
       "  <thead>\n",
       "    <tr style=\"text-align: right;\">\n",
       "      <th></th>\n",
       "      <th>high_revenue</th>\n",
       "      <th>low_revenue</th>\n",
       "    </tr>\n",
       "  </thead>\n",
       "  <tbody>\n",
       "    <tr>\n",
       "      <th>0</th>\n",
       "      <td>True</td>\n",
       "      <td>False</td>\n",
       "    </tr>\n",
       "    <tr>\n",
       "      <th>1</th>\n",
       "      <td>True</td>\n",
       "      <td>False</td>\n",
       "    </tr>\n",
       "  </tbody>\n",
       "</table>\n",
       "</div>"
      ],
      "text/plain": [
       "   high_revenue  low_revenue\n",
       "0          True        False\n",
       "1          True        False"
      ]
     },
     "execution_count": 19,
     "metadata": {},
     "output_type": "execute_result"
    }
   ],
   "source": [
    "test_df[['high_revenue', 'low_revenue']].head(2)"
   ]
  },
  {
   "cell_type": "markdown",
   "id": "6b17ee8e-2275-4ad3-b0fb-3047761ecf97",
   "metadata": {
    "jp-MarkdownHeadingCollapsed": true,
    "tags": []
   },
   "source": [
    "### At this point the model performance is at: 0.1739. \n",
    "- #### Try scaling the data, and performing apples to apples comparison to see if scaling has value\n",
    "- #### Adjust the bool columns to integers\n",
    "- - #### After scaling, score was 0.1740, probably not worth it"
   ]
  },
  {
   "cell_type": "code",
   "execution_count": 23,
   "id": "a7c4b91c-9e29-4cee-9d26-b7bb56a7a9d6",
   "metadata": {},
   "outputs": [],
   "source": [
    "from tqdm import tqdm \n",
    "from sklearn.preprocessing import StandardScaler"
   ]
  },
  {
   "cell_type": "code",
   "execution_count": 22,
   "id": "41cd9f61-d04f-4cc2-9412-bcba66a5aa8d",
   "metadata": {},
   "outputs": [],
   "source": [
    "''' Isolate all non-binary numerical Columns '''\n",
    "\n",
    "numerical_columns = ['release_date', 'budget', 'popularity', 'revenue', \n",
    "                     'runtime', 'vote_average', 'vote_count']"
   ]
  },
  {
   "cell_type": "code",
   "execution_count": 24,
   "id": "52ab6c40-d308-46a3-8d4a-0093f174cb5b",
   "metadata": {},
   "outputs": [
    {
     "name": "stderr",
     "output_type": "stream",
     "text": [
      "100%|██████████| 7/7 [00:00<00:00, 54.72it/s]\n"
     ]
    }
   ],
   "source": [
    "''' Define a standardization scaling algorithm, check for null values, apply '''\n",
    "\n",
    "scaler = StandardScaler() # Define algorithm\n",
    "\n",
    "for col in tqdm(numerical_columns):\n",
    "    if train_df[col].isnull().any(): # Check for Nulls\n",
    "        \n",
    "        train_df[col].fillna(train_df[col].mean(), inplace=True)\n",
    "        test_df[col].fillna(train_df[col].mean(), inplace=True)\n",
    "        \n",
    "    if col in test_df.columns: # Apply transformation to test df\n",
    "\n",
    "        train_df[col] = scaler.fit_transform(train_df[[col]])\n",
    "        test_df[col] = scaler.transform(test_df[[col]])\n",
    "        \n",
    "    else: # Apply transformation to train df\n",
    "        train_df[col] = scaler.fit_transform(train_df[[col]])"
   ]
  },
  {
   "cell_type": "code",
   "execution_count": 28,
   "id": "cd6cd11e-8c33-45b3-8ec3-95ffb70d9ad1",
   "metadata": {},
   "outputs": [],
   "source": [
    "train_df[['high_revenue', 'low_revenue']] = train_df[['high_revenue', 'low_revenue']].astype(int)\n",
    "test_df[['high_revenue', 'low_revenue']] = test_df[['high_revenue', 'low_revenue']].astype(int)"
   ]
  },
  {
   "cell_type": "code",
   "execution_count": 29,
   "id": "77151bc5-a631-436e-bb87-223eff083f0a",
   "metadata": {},
   "outputs": [
    {
     "data": {
      "text/html": [
       "<div>\n",
       "<style scoped>\n",
       "    .dataframe tbody tr th:only-of-type {\n",
       "        vertical-align: middle;\n",
       "    }\n",
       "\n",
       "    .dataframe tbody tr th {\n",
       "        vertical-align: top;\n",
       "    }\n",
       "\n",
       "    .dataframe thead th {\n",
       "        text-align: right;\n",
       "    }\n",
       "</style>\n",
       "<table border=\"1\" class=\"dataframe\">\n",
       "  <thead>\n",
       "    <tr style=\"text-align: right;\">\n",
       "      <th></th>\n",
       "      <th>rating</th>\n",
       "      <th>userId</th>\n",
       "      <th>movieId</th>\n",
       "      <th>budget</th>\n",
       "      <th>overview</th>\n",
       "      <th>popularity</th>\n",
       "      <th>release_date</th>\n",
       "      <th>revenue</th>\n",
       "      <th>runtime</th>\n",
       "      <th>tagline</th>\n",
       "      <th>...</th>\n",
       "      <th>Adventure</th>\n",
       "      <th>Romance</th>\n",
       "      <th>Family</th>\n",
       "      <th>TV Movie</th>\n",
       "      <th>Mystery</th>\n",
       "      <th>War</th>\n",
       "      <th>Documentary</th>\n",
       "      <th>History</th>\n",
       "      <th>high_revenue</th>\n",
       "      <th>low_revenue</th>\n",
       "    </tr>\n",
       "  </thead>\n",
       "  <tbody>\n",
       "    <tr>\n",
       "      <th>0</th>\n",
       "      <td>0.4</td>\n",
       "      <td>10</td>\n",
       "      <td>1358</td>\n",
       "      <td>-1.70091</td>\n",
       "      <td>Karl Childers is a mentally disabled man who h...</td>\n",
       "      <td>0.501803</td>\n",
       "      <td>0.278193</td>\n",
       "      <td>-0.028445</td>\n",
       "      <td>1.32168</td>\n",
       "      <td>A simple man A difficult choice</td>\n",
       "      <td>...</td>\n",
       "      <td>0</td>\n",
       "      <td>0</td>\n",
       "      <td>0</td>\n",
       "      <td>0</td>\n",
       "      <td>0</td>\n",
       "      <td>0</td>\n",
       "      <td>0</td>\n",
       "      <td>0</td>\n",
       "      <td>0</td>\n",
       "      <td>0</td>\n",
       "    </tr>\n",
       "  </tbody>\n",
       "</table>\n",
       "<p>1 rows × 37 columns</p>\n",
       "</div>"
      ],
      "text/plain": [
       "   rating  userId  movieId   budget  \\\n",
       "0     0.4      10     1358 -1.70091   \n",
       "\n",
       "                                            overview  popularity  \\\n",
       "0  Karl Childers is a mentally disabled man who h...    0.501803   \n",
       "\n",
       "   release_date   revenue  runtime                          tagline  ...  \\\n",
       "0      0.278193 -0.028445  1.32168  A simple man A difficult choice  ...   \n",
       "\n",
       "  Adventure  Romance  Family TV Movie  Mystery  War  Documentary  History  \\\n",
       "0         0        0       0        0        0    0            0        0   \n",
       "\n",
       "   high_revenue  low_revenue  \n",
       "0             0            0  \n",
       "\n",
       "[1 rows x 37 columns]"
      ]
     },
     "execution_count": 29,
     "metadata": {},
     "output_type": "execute_result"
    }
   ],
   "source": [
    "train_df.head(1)"
   ]
  },
  {
   "cell_type": "code",
   "execution_count": 30,
   "id": "531fc9ee-809d-48f7-92cb-00e74cd2568e",
   "metadata": {},
   "outputs": [
    {
     "data": {
      "text/html": [
       "<div>\n",
       "<style scoped>\n",
       "    .dataframe tbody tr th:only-of-type {\n",
       "        vertical-align: middle;\n",
       "    }\n",
       "\n",
       "    .dataframe tbody tr th {\n",
       "        vertical-align: top;\n",
       "    }\n",
       "\n",
       "    .dataframe thead th {\n",
       "        text-align: right;\n",
       "    }\n",
       "</style>\n",
       "<table border=\"1\" class=\"dataframe\">\n",
       "  <thead>\n",
       "    <tr style=\"text-align: right;\">\n",
       "      <th></th>\n",
       "      <th>userId</th>\n",
       "      <th>movieId</th>\n",
       "      <th>budget</th>\n",
       "      <th>overview</th>\n",
       "      <th>popularity</th>\n",
       "      <th>release_date</th>\n",
       "      <th>revenue</th>\n",
       "      <th>runtime</th>\n",
       "      <th>tagline</th>\n",
       "      <th>title</th>\n",
       "      <th>...</th>\n",
       "      <th>Adventure</th>\n",
       "      <th>Romance</th>\n",
       "      <th>Family</th>\n",
       "      <th>TV Movie</th>\n",
       "      <th>Mystery</th>\n",
       "      <th>War</th>\n",
       "      <th>Documentary</th>\n",
       "      <th>History</th>\n",
       "      <th>high_revenue</th>\n",
       "      <th>low_revenue</th>\n",
       "    </tr>\n",
       "  </thead>\n",
       "  <tbody>\n",
       "    <tr>\n",
       "      <th>0</th>\n",
       "      <td>469</td>\n",
       "      <td>2124</td>\n",
       "      <td>0.821147</td>\n",
       "      <td>Uncle Fester has been missing for 25 years An ...</td>\n",
       "      <td>0.501803</td>\n",
       "      <td>-0.054576</td>\n",
       "      <td>0.674398</td>\n",
       "      <td>-0.74909</td>\n",
       "      <td>Weird Is Relative</td>\n",
       "      <td>The Addams Family</td>\n",
       "      <td>...</td>\n",
       "      <td>0</td>\n",
       "      <td>0</td>\n",
       "      <td>0</td>\n",
       "      <td>0</td>\n",
       "      <td>0</td>\n",
       "      <td>0</td>\n",
       "      <td>0</td>\n",
       "      <td>0</td>\n",
       "      <td>1</td>\n",
       "      <td>0</td>\n",
       "    </tr>\n",
       "  </tbody>\n",
       "</table>\n",
       "<p>1 rows × 36 columns</p>\n",
       "</div>"
      ],
      "text/plain": [
       "   userId  movieId    budget  \\\n",
       "0     469     2124  0.821147   \n",
       "\n",
       "                                            overview  popularity  \\\n",
       "0  Uncle Fester has been missing for 25 years An ...    0.501803   \n",
       "\n",
       "   release_date   revenue  runtime            tagline              title  ...  \\\n",
       "0     -0.054576  0.674398 -0.74909  Weird Is Relative  The Addams Family  ...   \n",
       "\n",
       "   Adventure  Romance Family  TV Movie  Mystery  War  Documentary  History  \\\n",
       "0          0        0      0         0        0    0            0        0   \n",
       "\n",
       "   high_revenue  low_revenue  \n",
       "0             1            0  \n",
       "\n",
       "[1 rows x 36 columns]"
      ]
     },
     "execution_count": 30,
     "metadata": {},
     "output_type": "execute_result"
    }
   ],
   "source": [
    "test_df.head(1)"
   ]
  },
  {
   "cell_type": "markdown",
   "id": "e39403a2-186d-4ddb-b97e-c0e5f6f2243d",
   "metadata": {},
   "source": [
    "##### Export for comparison!"
   ]
  },
  {
   "cell_type": "code",
   "execution_count": 31,
   "id": "59f5e365-6a26-4624-8435-fe402151817a",
   "metadata": {},
   "outputs": [],
   "source": [
    "train_df.to_csv('checkpoint_train.csv', encoding = 'utf-8', index = False)\n",
    "test_df.to_csv('checkpoint_test.csv', encoding = 'utf-8', index = False)"
   ]
  },
  {
   "cell_type": "markdown",
   "id": "2ccf7a2c-29f2-422d-8118-3b0f0629318c",
   "metadata": {},
   "source": [
    "#### The Model ended up getting a 0.174 RMSE score, which leads me to believe, at least this scaling technique, is not going to improve performance at all. I am still pretty convinced that if we can figure out how to include some kind of predictability from text features, model will do better. "
   ]
  },
  {
   "cell_type": "markdown",
   "id": "0df47f5f-ab81-4431-a2f3-8c2beccf51dc",
   "metadata": {
    "jp-MarkdownHeadingCollapsed": true,
    "tags": []
   },
   "source": [
    "## Idea: Drop the Genres Column and see if it improves performance at all. Result: To be determined, hasnt been compared \"apples-to-apples\" yet"
   ]
  },
  {
   "cell_type": "code",
   "execution_count": 121,
   "id": "1763192b-3b4e-4df3-a0c6-47936756f0d6",
   "metadata": {},
   "outputs": [],
   "source": [
    "genre_columns =     ['Science Fiction', 'Crime', 'Thriller', \n",
    "                     'Horror', 'Romance', 'TV Movie', 'Action', \n",
    "                     'Adventure', 'War', 'Documentary', 'Family', \n",
    "                     'Fantasy', 'Music', 'Animation', 'Mystery', \n",
    "                     'Western', 'Foreign', 'History', 'Drama', 'Comedy']"
   ]
  },
  {
   "cell_type": "code",
   "execution_count": 124,
   "id": "6b9c2a87-afac-4c39-8a14-6882befe5d24",
   "metadata": {},
   "outputs": [],
   "source": [
    "train_df.drop(columns = genre_columns, inplace = True)\n",
    "test_df.drop(columns = genre_columns, inplace = True)"
   ]
  },
  {
   "cell_type": "code",
   "execution_count": 127,
   "id": "7647386c-3bc2-4ff7-a4a3-59938234eab7",
   "metadata": {},
   "outputs": [
    {
     "data": {
      "text/html": [
       "<div>\n",
       "<style scoped>\n",
       "    .dataframe tbody tr th:only-of-type {\n",
       "        vertical-align: middle;\n",
       "    }\n",
       "\n",
       "    .dataframe tbody tr th {\n",
       "        vertical-align: top;\n",
       "    }\n",
       "\n",
       "    .dataframe thead th {\n",
       "        text-align: right;\n",
       "    }\n",
       "</style>\n",
       "<table border=\"1\" class=\"dataframe\">\n",
       "  <thead>\n",
       "    <tr style=\"text-align: right;\">\n",
       "      <th></th>\n",
       "      <th>rating</th>\n",
       "      <th>userId</th>\n",
       "      <th>movieId</th>\n",
       "      <th>budget</th>\n",
       "      <th>overview</th>\n",
       "      <th>popularity</th>\n",
       "      <th>release_date</th>\n",
       "      <th>revenue</th>\n",
       "      <th>runtime</th>\n",
       "      <th>tagline</th>\n",
       "      <th>title</th>\n",
       "      <th>vote_average</th>\n",
       "      <th>vote_count</th>\n",
       "      <th>all_keywords</th>\n",
       "      <th>old</th>\n",
       "      <th>high_revenue</th>\n",
       "      <th>low_revenue</th>\n",
       "    </tr>\n",
       "  </thead>\n",
       "  <tbody>\n",
       "    <tr>\n",
       "      <th>0</th>\n",
       "      <td>0.4</td>\n",
       "      <td>10</td>\n",
       "      <td>1358</td>\n",
       "      <td>1000000.0</td>\n",
       "      <td>Karl Childers is a mentally disabled man who h...</td>\n",
       "      <td>8.46</td>\n",
       "      <td>1996</td>\n",
       "      <td>24444121.0</td>\n",
       "      <td>135</td>\n",
       "      <td>A simple man A difficult choice</td>\n",
       "      <td>Sling Blade</td>\n",
       "      <td>7.4</td>\n",
       "      <td>109</td>\n",
       "      <td>independent film repair shop southern death th...</td>\n",
       "      <td>0.0</td>\n",
       "      <td>False</td>\n",
       "      <td>False</td>\n",
       "    </tr>\n",
       "  </tbody>\n",
       "</table>\n",
       "</div>"
      ],
      "text/plain": [
       "   rating  userId  movieId     budget  \\\n",
       "0     0.4      10     1358  1000000.0   \n",
       "\n",
       "                                            overview  popularity  \\\n",
       "0  Karl Childers is a mentally disabled man who h...        8.46   \n",
       "\n",
       "   release_date     revenue  runtime                          tagline  \\\n",
       "0          1996  24444121.0      135  A simple man A difficult choice   \n",
       "\n",
       "         title  vote_average  vote_count  \\\n",
       "0  Sling Blade           7.4         109   \n",
       "\n",
       "                                        all_keywords  old  high_revenue  \\\n",
       "0  independent film repair shop southern death th...  0.0         False   \n",
       "\n",
       "   low_revenue  \n",
       "0        False  "
      ]
     },
     "execution_count": 127,
     "metadata": {},
     "output_type": "execute_result"
    }
   ],
   "source": [
    "train_df.head(1)"
   ]
  },
  {
   "cell_type": "markdown",
   "id": "5e67e48d-2bb5-463b-948c-6f93779a8e1b",
   "metadata": {},
   "source": [
    "# Check Feature Importances "
   ]
  },
  {
   "cell_type": "code",
   "execution_count": 34,
   "id": "def3ebd3-bb95-4c08-8a44-bcdef4381cff",
   "metadata": {},
   "outputs": [],
   "source": [
    "from sklearn.ensemble import GradientBoostingRegressor\n",
    "from sklearn import ensemble"
   ]
  },
  {
   "cell_type": "code",
   "execution_count": 35,
   "id": "8795dab7-428d-4dc3-aa06-d2bd504c12c6",
   "metadata": {},
   "outputs": [],
   "source": [
    "text_columns = ['overview', 'tagline', 'title', 'all_keywords']\n",
    "train_df.drop(columns = text_columns, inplace = True)\n",
    "test_df.drop(columns = text_columns, inplace = True)"
   ]
  },
  {
   "cell_type": "code",
   "execution_count": 88,
   "id": "59686264-39a0-41a0-a0c2-5012f9dd0644",
   "metadata": {
    "tags": []
   },
   "outputs": [
    {
     "data": {
      "text/plain": [
       "GradientBoostingRegressor(learning_rate=0.2, max_depth=4, min_samples_split=15,\n",
       "                          n_estimators=960, random_state=150, subsample=0.75)"
      ]
     },
     "execution_count": 88,
     "metadata": {},
     "output_type": "execute_result"
    }
   ],
   "source": [
    "y_train = train_df['rating']\n",
    "X_train = train_df.drop(labels = 'rating', axis = 1)\n",
    "\n",
    "X_test = test_df\n",
    "\n",
    "parameters = {\n",
    "    \"n_estimators\": 960,\n",
    "    \"max_depth\": 4,\n",
    "    \"min_samples_split\": 15,\n",
    "    \"random_state\": 150,\n",
    "    'subsample': 0.75,\n",
    "    \"learning_rate\": 0.2,\n",
    "    \"loss\": \"squared_error\"\n",
    "\n",
    "}\n",
    "GB_regressor = ensemble.GradientBoostingRegressor(**parameters)\n",
    "GB_regressor.fit(X_train, y_train)"
   ]
  },
  {
   "cell_type": "markdown",
   "id": "fcb8acc2-439e-4220-b920-27ceff1a3cee",
   "metadata": {},
   "source": [
    "#### Check Feature importance"
   ]
  },
  {
   "cell_type": "code",
   "execution_count": 89,
   "id": "1b56510a-159e-407e-baca-7c11adf081ee",
   "metadata": {},
   "outputs": [],
   "source": [
    "''' Get Feature importances '''\n",
    "feature_importances = GB_regressor.feature_importances_\n",
    "\n",
    "''' Create a DataFrame with feature names and importances '''\n",
    "df_feature_importances = pd.DataFrame({'Feature': train_df.drop(columns = 'rating').columns, 'Importance': feature_importances})\n",
    "\n",
    "''' Sort values based on importance '''\n",
    "df_feature_importances = df_feature_importances.sort_values('Importance', ascending = False)"
   ]
  },
  {
   "cell_type": "code",
   "execution_count": 90,
   "id": "65ba079e-e6f3-4a7a-b329-bce1d103dae2",
   "metadata": {},
   "outputs": [
    {
     "data": {
      "image/png": "[encoded data removed]",
      "text/plain": [
       "<Figure size 1200x800 with 1 Axes>"
      ]
     },
     "metadata": {},
     "output_type": "display_data"
    }
   ],
   "source": [
    "''' Make it pretty, plot the data '''\n",
    "colors = sns.color_palette(\"mako_r\", len(df_feature_importances))\n",
    "plt.figure(figsize = (12, 8))\n",
    "sns.set_style('whitegrid')\n",
    "sns.barplot(x = 'Feature', y = 'Importance', data = df_feature_importances, palette = 'RdYlBu_r')\n",
    "plt.xticks(rotation = 80)\n",
    "plt.xlabel('Feature')\n",
    "plt.ylabel('Importance')\n",
    "plt.title('Gradient Boosted Regression Feature Importance')\n",
    "plt.show()"
   ]
  },
  {
   "cell_type": "markdown",
   "id": "f9786799-4db8-4edc-9bef-39a6b7d466e0",
   "metadata": {},
   "source": [
    "## Export for Testing"
   ]
  },
  {
   "cell_type": "code",
   "execution_count": 20,
   "id": "b51d5fc6-55c7-4256-a71d-6299236666de",
   "metadata": {},
   "outputs": [],
   "source": [
    "train_df.to_csv('checkpoint_train.csv', encoding = 'utf-8', index = False)\n",
    "test_df.to_csv('checkpoint_test.csv', encoding = 'utf-8', index = False)"
   ]
  },
  {
   "cell_type": "code",
   "execution_count": 128,
   "id": "f45228ad-6947-4cdc-9874-0815bc76fc9e",
   "metadata": {},
   "outputs": [],
   "source": [
    "to_drop = ['old', 'high_revenue', 'low_revenue']"
   ]
  },
  {
   "cell_type": "code",
   "execution_count": 129,
   "id": "115b45e3-7cc4-4251-8f36-f205d08c8814",
   "metadata": {},
   "outputs": [],
   "source": [
    "train_df.drop(columns = to_drop, inplace = True)\n",
    "test_df.drop(columns = to_drop, inplace = True)"
   ]
  },
  {
   "cell_type": "code",
   "execution_count": null,
   "id": "2617ccd0-b5df-4451-afa0-3dfaf6617cdb",
   "metadata": {},
   "outputs": [],
   "source": []
  }
 ],
 "metadata": {
  "kernelspec": {
   "display_name": "Python 3 (ipykernel)",
   "language": "python",
   "name": "python3"
  },
  "language_info": {
   "codemirror_mode": {
    "name": "ipython",
    "version": 3
   },
   "file_extension": ".py",
   "mimetype": "text/x-python",
   "name": "python",
   "nbconvert_exporter": "python",
   "pygments_lexer": "ipython3",
   "version": "3.9.13"
  }
 },
 "nbformat": 4,
 "nbformat_minor": 5
}
